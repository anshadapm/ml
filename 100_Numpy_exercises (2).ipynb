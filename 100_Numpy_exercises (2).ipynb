{
 "cells": [
  {
   "cell_type": "markdown",
   "id": "bf79c78b",
   "metadata": {},
   "source": [
    "# 100 numpy exercises\n",
    "\n",
    "This is a collection of exercises that have been collected in the numpy mailing list, on stack overflow\n",
    "and in the numpy documentation. The goal of this collection is to offer a quick reference for both old\n",
    "and new users but also to provide a set of exercises for those who teach.\n",
    "\n",
    "\n",
    "If you find an error or think you've a better way to solve some of them, feel\n",
    "free to open an issue at <https://github.com/rougier/numpy-100>."
   ]
  },
  {
   "cell_type": "markdown",
   "id": "8536e059",
   "metadata": {},
   "source": [
    "File automatically generated. See the documentation to update questions/answers/hints programmatically."
   ]
  },
  {
   "cell_type": "markdown",
   "id": "e16ac60b",
   "metadata": {},
   "source": [
    "Run the `initialize.py` module, then for each question you can query the\n",
    "answer or an hint with `hint(n)` or `answer(n)` for `n` question number."
   ]
  },
  {
   "cell_type": "code",
   "execution_count": 7,
   "id": "a8453483",
   "metadata": {},
   "outputs": [
    {
     "ename": "Exception",
     "evalue": "File `'initialise.py'` not found.",
     "output_type": "error",
     "traceback": [
      "\u001b[1;31m---------------------------------------------------------------------------\u001b[0m",
      "\u001b[1;31mOSError\u001b[0m                                   Traceback (most recent call last)",
      "\u001b[1;32m~\\anaconda3\\lib\\site-packages\\IPython\\core\\magics\\execution.py\u001b[0m in \u001b[0;36mrun\u001b[1;34m(self, parameter_s, runner, file_finder)\u001b[0m\n\u001b[0;32m    702\u001b[0m             \u001b[0mfpath\u001b[0m \u001b[1;33m=\u001b[0m \u001b[0marg_lst\u001b[0m\u001b[1;33m[\u001b[0m\u001b[1;36m0\u001b[0m\u001b[1;33m]\u001b[0m\u001b[1;33m\u001b[0m\u001b[1;33m\u001b[0m\u001b[0m\n\u001b[1;32m--> 703\u001b[1;33m             \u001b[0mfilename\u001b[0m \u001b[1;33m=\u001b[0m \u001b[0mfile_finder\u001b[0m\u001b[1;33m(\u001b[0m\u001b[0mfpath\u001b[0m\u001b[1;33m)\u001b[0m\u001b[1;33m\u001b[0m\u001b[1;33m\u001b[0m\u001b[0m\n\u001b[0m\u001b[0;32m    704\u001b[0m         \u001b[1;32mexcept\u001b[0m \u001b[0mIndexError\u001b[0m\u001b[1;33m:\u001b[0m\u001b[1;33m\u001b[0m\u001b[1;33m\u001b[0m\u001b[0m\n",
      "\u001b[1;32m~\\anaconda3\\lib\\site-packages\\IPython\\utils\\path.py\u001b[0m in \u001b[0;36mget_py_filename\u001b[1;34m(name, force_win32)\u001b[0m\n\u001b[0;32m    108\u001b[0m     \u001b[1;32melse\u001b[0m\u001b[1;33m:\u001b[0m\u001b[1;33m\u001b[0m\u001b[1;33m\u001b[0m\u001b[0m\n\u001b[1;32m--> 109\u001b[1;33m         \u001b[1;32mraise\u001b[0m \u001b[0mIOError\u001b[0m\u001b[1;33m(\u001b[0m\u001b[1;34m'File `%r` not found.'\u001b[0m \u001b[1;33m%\u001b[0m \u001b[0mname\u001b[0m\u001b[1;33m)\u001b[0m\u001b[1;33m\u001b[0m\u001b[1;33m\u001b[0m\u001b[0m\n\u001b[0m\u001b[0;32m    110\u001b[0m \u001b[1;33m\u001b[0m\u001b[0m\n",
      "\u001b[1;31mOSError\u001b[0m: File `'initialise.py'` not found.",
      "\nDuring handling of the above exception, another exception occurred:\n",
      "\u001b[1;31mException\u001b[0m                                 Traceback (most recent call last)",
      "\u001b[1;32m<ipython-input-7-79a9b8b96c92>\u001b[0m in \u001b[0;36m<module>\u001b[1;34m\u001b[0m\n\u001b[1;32m----> 1\u001b[1;33m \u001b[0mget_ipython\u001b[0m\u001b[1;33m(\u001b[0m\u001b[1;33m)\u001b[0m\u001b[1;33m.\u001b[0m\u001b[0mrun_line_magic\u001b[0m\u001b[1;33m(\u001b[0m\u001b[1;34m'run'\u001b[0m\u001b[1;33m,\u001b[0m \u001b[1;34m'initialise.py'\u001b[0m\u001b[1;33m)\u001b[0m\u001b[1;33m\u001b[0m\u001b[1;33m\u001b[0m\u001b[0m\n\u001b[0m",
      "\u001b[1;32m~\\anaconda3\\lib\\site-packages\\IPython\\core\\interactiveshell.py\u001b[0m in \u001b[0;36mrun_line_magic\u001b[1;34m(self, magic_name, line, _stack_depth)\u001b[0m\n\u001b[0;32m   2342\u001b[0m                 \u001b[0mkwargs\u001b[0m\u001b[1;33m[\u001b[0m\u001b[1;34m'local_ns'\u001b[0m\u001b[1;33m]\u001b[0m \u001b[1;33m=\u001b[0m \u001b[0mself\u001b[0m\u001b[1;33m.\u001b[0m\u001b[0mget_local_scope\u001b[0m\u001b[1;33m(\u001b[0m\u001b[0mstack_depth\u001b[0m\u001b[1;33m)\u001b[0m\u001b[1;33m\u001b[0m\u001b[1;33m\u001b[0m\u001b[0m\n\u001b[0;32m   2343\u001b[0m             \u001b[1;32mwith\u001b[0m \u001b[0mself\u001b[0m\u001b[1;33m.\u001b[0m\u001b[0mbuiltin_trap\u001b[0m\u001b[1;33m:\u001b[0m\u001b[1;33m\u001b[0m\u001b[1;33m\u001b[0m\u001b[0m\n\u001b[1;32m-> 2344\u001b[1;33m                 \u001b[0mresult\u001b[0m \u001b[1;33m=\u001b[0m \u001b[0mfn\u001b[0m\u001b[1;33m(\u001b[0m\u001b[1;33m*\u001b[0m\u001b[0margs\u001b[0m\u001b[1;33m,\u001b[0m \u001b[1;33m**\u001b[0m\u001b[0mkwargs\u001b[0m\u001b[1;33m)\u001b[0m\u001b[1;33m\u001b[0m\u001b[1;33m\u001b[0m\u001b[0m\n\u001b[0m\u001b[0;32m   2345\u001b[0m             \u001b[1;32mreturn\u001b[0m \u001b[0mresult\u001b[0m\u001b[1;33m\u001b[0m\u001b[1;33m\u001b[0m\u001b[0m\n\u001b[0;32m   2346\u001b[0m \u001b[1;33m\u001b[0m\u001b[0m\n",
      "\u001b[1;32m~\\anaconda3\\lib\\site-packages\\decorator.py\u001b[0m in \u001b[0;36mfun\u001b[1;34m(*args, **kw)\u001b[0m\n\u001b[0;32m    229\u001b[0m             \u001b[1;32mif\u001b[0m \u001b[1;32mnot\u001b[0m \u001b[0mkwsyntax\u001b[0m\u001b[1;33m:\u001b[0m\u001b[1;33m\u001b[0m\u001b[1;33m\u001b[0m\u001b[0m\n\u001b[0;32m    230\u001b[0m                 \u001b[0margs\u001b[0m\u001b[1;33m,\u001b[0m \u001b[0mkw\u001b[0m \u001b[1;33m=\u001b[0m \u001b[0mfix\u001b[0m\u001b[1;33m(\u001b[0m\u001b[0margs\u001b[0m\u001b[1;33m,\u001b[0m \u001b[0mkw\u001b[0m\u001b[1;33m,\u001b[0m \u001b[0msig\u001b[0m\u001b[1;33m)\u001b[0m\u001b[1;33m\u001b[0m\u001b[1;33m\u001b[0m\u001b[0m\n\u001b[1;32m--> 231\u001b[1;33m             \u001b[1;32mreturn\u001b[0m \u001b[0mcaller\u001b[0m\u001b[1;33m(\u001b[0m\u001b[0mfunc\u001b[0m\u001b[1;33m,\u001b[0m \u001b[1;33m*\u001b[0m\u001b[1;33m(\u001b[0m\u001b[0mextras\u001b[0m \u001b[1;33m+\u001b[0m \u001b[0margs\u001b[0m\u001b[1;33m)\u001b[0m\u001b[1;33m,\u001b[0m \u001b[1;33m**\u001b[0m\u001b[0mkw\u001b[0m\u001b[1;33m)\u001b[0m\u001b[1;33m\u001b[0m\u001b[1;33m\u001b[0m\u001b[0m\n\u001b[0m\u001b[0;32m    232\u001b[0m     \u001b[0mfun\u001b[0m\u001b[1;33m.\u001b[0m\u001b[0m__name__\u001b[0m \u001b[1;33m=\u001b[0m \u001b[0mfunc\u001b[0m\u001b[1;33m.\u001b[0m\u001b[0m__name__\u001b[0m\u001b[1;33m\u001b[0m\u001b[1;33m\u001b[0m\u001b[0m\n\u001b[0;32m    233\u001b[0m     \u001b[0mfun\u001b[0m\u001b[1;33m.\u001b[0m\u001b[0m__doc__\u001b[0m \u001b[1;33m=\u001b[0m \u001b[0mfunc\u001b[0m\u001b[1;33m.\u001b[0m\u001b[0m__doc__\u001b[0m\u001b[1;33m\u001b[0m\u001b[1;33m\u001b[0m\u001b[0m\n",
      "\u001b[1;32m~\\anaconda3\\lib\\site-packages\\IPython\\core\\magic.py\u001b[0m in \u001b[0;36m<lambda>\u001b[1;34m(f, *a, **k)\u001b[0m\n\u001b[0;32m    185\u001b[0m     \u001b[1;31m# but it's overkill for just that one bit of state.\u001b[0m\u001b[1;33m\u001b[0m\u001b[1;33m\u001b[0m\u001b[1;33m\u001b[0m\u001b[0m\n\u001b[0;32m    186\u001b[0m     \u001b[1;32mdef\u001b[0m \u001b[0mmagic_deco\u001b[0m\u001b[1;33m(\u001b[0m\u001b[0marg\u001b[0m\u001b[1;33m)\u001b[0m\u001b[1;33m:\u001b[0m\u001b[1;33m\u001b[0m\u001b[1;33m\u001b[0m\u001b[0m\n\u001b[1;32m--> 187\u001b[1;33m         \u001b[0mcall\u001b[0m \u001b[1;33m=\u001b[0m \u001b[1;32mlambda\u001b[0m \u001b[0mf\u001b[0m\u001b[1;33m,\u001b[0m \u001b[1;33m*\u001b[0m\u001b[0ma\u001b[0m\u001b[1;33m,\u001b[0m \u001b[1;33m**\u001b[0m\u001b[0mk\u001b[0m\u001b[1;33m:\u001b[0m \u001b[0mf\u001b[0m\u001b[1;33m(\u001b[0m\u001b[1;33m*\u001b[0m\u001b[0ma\u001b[0m\u001b[1;33m,\u001b[0m \u001b[1;33m**\u001b[0m\u001b[0mk\u001b[0m\u001b[1;33m)\u001b[0m\u001b[1;33m\u001b[0m\u001b[1;33m\u001b[0m\u001b[0m\n\u001b[0m\u001b[0;32m    188\u001b[0m \u001b[1;33m\u001b[0m\u001b[0m\n\u001b[0;32m    189\u001b[0m         \u001b[1;32mif\u001b[0m \u001b[0mcallable\u001b[0m\u001b[1;33m(\u001b[0m\u001b[0marg\u001b[0m\u001b[1;33m)\u001b[0m\u001b[1;33m:\u001b[0m\u001b[1;33m\u001b[0m\u001b[1;33m\u001b[0m\u001b[0m\n",
      "\u001b[1;32m~\\anaconda3\\lib\\site-packages\\IPython\\core\\magics\\execution.py\u001b[0m in \u001b[0;36mrun\u001b[1;34m(self, parameter_s, runner, file_finder)\u001b[0m\n\u001b[0;32m    712\u001b[0m             \u001b[1;32mif\u001b[0m \u001b[0mos\u001b[0m\u001b[1;33m.\u001b[0m\u001b[0mname\u001b[0m \u001b[1;33m==\u001b[0m \u001b[1;34m'nt'\u001b[0m \u001b[1;32mand\u001b[0m \u001b[0mre\u001b[0m\u001b[1;33m.\u001b[0m\u001b[0mmatch\u001b[0m\u001b[1;33m(\u001b[0m\u001b[1;34mr\"^'.*'$\"\u001b[0m\u001b[1;33m,\u001b[0m\u001b[0mfpath\u001b[0m\u001b[1;33m)\u001b[0m\u001b[1;33m:\u001b[0m\u001b[1;33m\u001b[0m\u001b[1;33m\u001b[0m\u001b[0m\n\u001b[0;32m    713\u001b[0m                 \u001b[0mwarn\u001b[0m\u001b[1;33m(\u001b[0m\u001b[1;34m'For Windows, use double quotes to wrap a filename: %run \"mypath\\\\myfile.py\"'\u001b[0m\u001b[1;33m)\u001b[0m\u001b[1;33m\u001b[0m\u001b[1;33m\u001b[0m\u001b[0m\n\u001b[1;32m--> 714\u001b[1;33m             \u001b[1;32mraise\u001b[0m \u001b[0mException\u001b[0m\u001b[1;33m(\u001b[0m\u001b[0mmsg\u001b[0m\u001b[1;33m)\u001b[0m\u001b[1;33m\u001b[0m\u001b[1;33m\u001b[0m\u001b[0m\n\u001b[0m\u001b[0;32m    715\u001b[0m         \u001b[1;32mexcept\u001b[0m \u001b[0mTypeError\u001b[0m\u001b[1;33m:\u001b[0m\u001b[1;33m\u001b[0m\u001b[1;33m\u001b[0m\u001b[0m\n\u001b[0;32m    716\u001b[0m             \u001b[1;32mif\u001b[0m \u001b[0mfpath\u001b[0m \u001b[1;32min\u001b[0m \u001b[0msys\u001b[0m\u001b[1;33m.\u001b[0m\u001b[0mmeta_path\u001b[0m\u001b[1;33m:\u001b[0m\u001b[1;33m\u001b[0m\u001b[1;33m\u001b[0m\u001b[0m\n",
      "\u001b[1;31mException\u001b[0m: File `'initialise.py'` not found."
     ]
    }
   ],
   "source": [
    "%run initialise.py"
   ]
  },
  {
   "cell_type": "markdown",
   "id": "017db353",
   "metadata": {},
   "source": [
    "#### 1. Import the numpy package under the name `np` (★☆☆)"
   ]
  },
  {
   "cell_type": "code",
   "execution_count": 1,
   "id": "68182a76",
   "metadata": {},
   "outputs": [],
   "source": [
    "import numpy as np"
   ]
  },
  {
   "cell_type": "markdown",
   "id": "46950f4f",
   "metadata": {},
   "source": [
    "#### 2. Print the numpy version and the configuration (★☆☆)"
   ]
  },
  {
   "cell_type": "code",
   "execution_count": 9,
   "id": "2a9f5838",
   "metadata": {},
   "outputs": [
    {
     "name": "stdout",
     "output_type": "stream",
     "text": [
      "1.20.1\n"
     ]
    }
   ],
   "source": [
    "print(np.__version__)"
   ]
  },
  {
   "cell_type": "markdown",
   "id": "e3c20b3d",
   "metadata": {},
   "source": [
    "#### 3. Create a null vector of size 10 (★☆☆)"
   ]
  },
  {
   "cell_type": "code",
   "execution_count": 4,
   "id": "8a758bcf",
   "metadata": {},
   "outputs": [],
   "source": [
    "x= np.zeros(10)"
   ]
  },
  {
   "cell_type": "markdown",
   "id": "b15a879f",
   "metadata": {},
   "source": [
    "#### 4. How to find the memory size of any array (★☆☆)"
   ]
  },
  {
   "cell_type": "code",
   "execution_count": 27,
   "id": "1cc3cbc5",
   "metadata": {
    "scrolled": true
   },
   "outputs": [
    {
     "data": {
      "text/plain": [
       "10"
      ]
     },
     "execution_count": 27,
     "metadata": {},
     "output_type": "execute_result"
    }
   ],
   "source": [
    "x.size"
   ]
  },
  {
   "cell_type": "markdown",
   "id": "0a708990",
   "metadata": {},
   "source": [
    "#### 5. How to get the documentation of the numpy add function from the command line? (★☆☆)"
   ]
  },
  {
   "cell_type": "code",
   "execution_count": null,
   "id": "477e01f4",
   "metadata": {},
   "outputs": [],
   "source": []
  },
  {
   "cell_type": "markdown",
   "id": "0b16cd77",
   "metadata": {},
   "source": [
    "#### 6. Create a null vector of size 10 but the fifth value which is 1 (★☆☆)"
   ]
  },
  {
   "cell_type": "code",
   "execution_count": 2,
   "id": "4d9b5975",
   "metadata": {},
   "outputs": [],
   "source": [
    "x= np.zeros(10)\n",
    "x[5]=10"
   ]
  },
  {
   "cell_type": "markdown",
   "id": "782d4c77",
   "metadata": {},
   "source": [
    "#### 7. Create a vector with values ranging from 10 to 49 (★☆☆)"
   ]
  },
  {
   "cell_type": "code",
   "execution_count": 6,
   "id": "5dbe1a08",
   "metadata": {},
   "outputs": [
    {
     "name": "stdout",
     "output_type": "stream",
     "text": [
      "[10 11 12 13 14 15 16 17 18 19 20 21 22 23 24 25 26 27 28 29 30 31 32 33\n",
      " 34 35 36 37 38 39 40 41 42 43 44 45 46 47 48 49]\n"
     ]
    }
   ],
   "source": [
    "y=np.arange(10,50)\n",
    "print(y)"
   ]
  },
  {
   "cell_type": "markdown",
   "id": "48d48f01",
   "metadata": {},
   "source": [
    "#### 8. Reverse a vector (first element becomes last) (★☆☆)"
   ]
  },
  {
   "cell_type": "code",
   "execution_count": 7,
   "id": "3ed233e7",
   "metadata": {},
   "outputs": [
    {
     "name": "stdout",
     "output_type": "stream",
     "text": [
      "[49 48 47 46 45 44 43 42 41 40 39 38 37 36 35 34 33 32 31 30 29 28 27 26\n",
      " 25 24 23 22 21 20 19 18 17 16 15 14 13 12 11 10]\n"
     ]
    }
   ],
   "source": [
    "y=y[::-1]\n",
    "print(y)"
   ]
  },
  {
   "cell_type": "markdown",
   "id": "4fa39382",
   "metadata": {},
   "source": [
    "#### 9. Create a 3x3 matrix with values ranging from 0 to 8 (★☆☆)"
   ]
  },
  {
   "cell_type": "code",
   "execution_count": 12,
   "id": "c97757ec",
   "metadata": {},
   "outputs": [
    {
     "name": "stdout",
     "output_type": "stream",
     "text": [
      "[[0 1 2]\n",
      " [3 4 5]\n",
      " [6 7 8]]\n"
     ]
    }
   ],
   "source": [
    "z=np.arange(0,9).reshape(3,3)\n",
    "print(z)"
   ]
  },
  {
   "cell_type": "markdown",
   "id": "da64551a",
   "metadata": {},
   "source": [
    "#### 10. Find indices of non-zero elements from [1,2,0,0,4,0] (★☆☆)"
   ]
  },
  {
   "cell_type": "code",
   "execution_count": 26,
   "id": "327f7adb",
   "metadata": {},
   "outputs": [
    {
     "name": "stdout",
     "output_type": "stream",
     "text": [
      "(array([0, 1, 4], dtype=int64),)\n"
     ]
    }
   ],
   "source": [
    "v=np.array([1,2,0,0,4,0])\n",
    "print(np.where(v!=0))"
   ]
  },
  {
   "cell_type": "markdown",
   "id": "f89d9c9e",
   "metadata": {},
   "source": [
    "#### 11. Create a 3x3 identity matrix (★☆☆)"
   ]
  },
  {
   "cell_type": "code",
   "execution_count": 38,
   "id": "ba625832",
   "metadata": {},
   "outputs": [
    {
     "name": "stdout",
     "output_type": "stream",
     "text": [
      "[[1. 0. 0.]\n",
      " [0. 1. 0.]\n",
      " [0. 0. 1.]]\n"
     ]
    }
   ],
   "source": [
    "w= np.identity(3)\n",
    "print(w)"
   ]
  },
  {
   "cell_type": "markdown",
   "id": "7e44c6fa",
   "metadata": {},
   "source": [
    "#### 12. Create a 3x3x3 array with random values (★☆☆)"
   ]
  },
  {
   "cell_type": "code",
   "execution_count": 31,
   "id": "1cb3dddf",
   "metadata": {},
   "outputs": [
    {
     "name": "stdout",
     "output_type": "stream",
     "text": [
      "[[[0.54220762 0.21382201 0.31192706]\n",
      "  [0.539637   0.62710668 0.83928037]\n",
      "  [0.57362734 0.38569054 0.40110508]]\n",
      "\n",
      " [[0.0663991  0.40658856 0.77963932]\n",
      "  [0.05672091 0.98388332 0.42428344]\n",
      "  [0.80080728 0.41520489 0.9417449 ]]\n",
      "\n",
      " [[0.05728299 0.18908187 0.54897087]\n",
      "  [0.57178575 0.35649911 0.82681506]\n",
      "  [0.98836582 0.16886607 0.65823234]]]\n"
     ]
    }
   ],
   "source": [
    "u=np.random.rand(3,3,3)\n",
    "print(u)"
   ]
  },
  {
   "cell_type": "markdown",
   "id": "13c5928c",
   "metadata": {},
   "source": [
    "#### 13. Create a 10x10 array with random values and find the minimum and maximum values (★☆☆)"
   ]
  },
  {
   "cell_type": "code",
   "execution_count": 38,
   "id": "911c9b93",
   "metadata": {
    "scrolled": true
   },
   "outputs": [
    {
     "name": "stdout",
     "output_type": "stream",
     "text": [
      "0.010465686752624381 0.9640290265969533\n"
     ]
    }
   ],
   "source": [
    "k=np.random.rand(10,10)\n",
    "print(k.min(),k.max())"
   ]
  },
  {
   "cell_type": "markdown",
   "id": "3fa2e461",
   "metadata": {},
   "source": [
    "#### 14. Create a random vector of size 30 and find the mean value (★☆☆)"
   ]
  },
  {
   "cell_type": "code",
   "execution_count": 41,
   "id": "323eb38a",
   "metadata": {},
   "outputs": [
    {
     "name": "stdout",
     "output_type": "stream",
     "text": [
      "0.46985565414534847\n"
     ]
    }
   ],
   "source": [
    "a=np.random.rand(30)\n",
    "print(a.mean())"
   ]
  },
  {
   "cell_type": "markdown",
   "id": "73f7a549",
   "metadata": {},
   "source": [
    "#### 15. Create a 2d array with 1 on the border and 0 inside (★☆☆)"
   ]
  },
  {
   "cell_type": "code",
   "execution_count": 20,
   "id": "e3a6807d",
   "metadata": {},
   "outputs": [
    {
     "name": "stdout",
     "output_type": "stream",
     "text": [
      "[[1. 1. 1. 1. 1.]\n",
      " [1. 0. 0. 0. 1.]\n",
      " [1. 0. 0. 0. 1.]\n",
      " [1. 0. 0. 0. 1.]\n",
      " [1. 1. 1. 1. 1.]]\n"
     ]
    }
   ],
   "source": [
    "b=np.ones((5,5))\n",
    "b[1:-1,1:-1]=0\n",
    "print(b)"
   ]
  },
  {
   "cell_type": "markdown",
   "id": "6d0c506f",
   "metadata": {},
   "source": [
    "#### 16. How to add a border (filled with 0's) around an existing array? (★☆☆)"
   ]
  },
  {
   "cell_type": "code",
   "execution_count": 21,
   "id": "32ffee7b",
   "metadata": {},
   "outputs": [
    {
     "name": "stdout",
     "output_type": "stream",
     "text": [
      "[[0. 0. 0. 0. 0. 0. 0.]\n",
      " [0. 1. 1. 1. 1. 1. 0.]\n",
      " [0. 1. 0. 0. 0. 1. 0.]\n",
      " [0. 1. 0. 0. 0. 1. 0.]\n",
      " [0. 1. 0. 0. 0. 1. 0.]\n",
      " [0. 1. 1. 1. 1. 1. 0.]\n",
      " [0. 0. 0. 0. 0. 0. 0.]]\n"
     ]
    }
   ],
   "source": [
    "b=np.pad(b,pad_width=1,mode='constant',constant_values=0)\n",
    "print(b)"
   ]
  },
  {
   "cell_type": "markdown",
   "id": "d6ad1a9f",
   "metadata": {},
   "source": [
    "#### 17. What is the result of the following expression? (★☆☆)\n",
    "```python\n",
    "0 * np.nan\n",
    "np.nan == np.nan\n",
    "np.inf > np.nan\n",
    "np.nan - np.nan\n",
    "np.nan in set([np.nan])\n",
    "0.3 == 3 * 0.1\n",
    "```"
   ]
  },
  {
   "cell_type": "code",
   "execution_count": 22,
   "id": "ee7ff0f3",
   "metadata": {},
   "outputs": [
    {
     "data": {
      "text/plain": [
       "False"
      ]
     },
     "execution_count": 22,
     "metadata": {},
     "output_type": "execute_result"
    }
   ],
   "source": [
    "0 * np.nan\n",
    "np.nan == np.nan\n",
    "np.inf > np.nan\n",
    "np.nan - np.nan\n",
    "np.nan in set([np.nan])\n",
    "0.3 == 3 * 0.1"
   ]
  },
  {
   "cell_type": "markdown",
   "id": "e3a7ba7f",
   "metadata": {},
   "source": [
    "#### 18. Create a 5x5 matrix with values 1,2,3,4 just below the diagonal (★☆☆)"
   ]
  },
  {
   "cell_type": "code",
   "execution_count": 113,
   "id": "01d8e257",
   "metadata": {
    "scrolled": true
   },
   "outputs": [
    {
     "name": "stdout",
     "output_type": "stream",
     "text": [
      "[[0 0 0 0 0]\n",
      " [1 0 0 0 0]\n",
      " [0 2 0 0 0]\n",
      " [0 0 3 0 0]\n",
      " [0 0 0 4 0]]\n",
      "[[0 0 0 0 0]\n",
      " [1 0 0 0 0]\n",
      " [0 2 0 0 0]\n",
      " [0 0 3 0 0]\n",
      " [0 0 0 4 0]]\n"
     ]
    }
   ],
   "source": [
    "c=np.diag([1,2,3,4])\n",
    "d=np.vstack((np.array([0,0,0,0]),c))\n",
    "e=np.column_stack((d,np.array([0,0,0,0,0])))\n",
    "print(e)\n",
    "#or\n",
    "r=np.diag(np.arange(4)+1,k=-1)\n",
    "print(r)"
   ]
  },
  {
   "cell_type": "markdown",
   "id": "6d17ab5d",
   "metadata": {},
   "source": [
    "#### 19. Create a 8x8 matrix and fill it with a checkerboard pattern (★☆☆)"
   ]
  },
  {
   "cell_type": "code",
   "execution_count": 169,
   "id": "841373cd",
   "metadata": {},
   "outputs": [
    {
     "name": "stdout",
     "output_type": "stream",
     "text": [
      "[[0. 1. 0. 1. 0. 1. 0. 1.]\n",
      " [1. 0. 1. 0. 1. 0. 1. 0.]\n",
      " [0. 1. 0. 1. 0. 1. 0. 1.]\n",
      " [1. 0. 1. 0. 1. 0. 1. 0.]\n",
      " [0. 1. 0. 1. 0. 1. 0. 1.]\n",
      " [1. 0. 1. 0. 1. 0. 1. 0.]\n",
      " [0. 1. 0. 1. 0. 1. 0. 1.]\n",
      " [1. 0. 1. 0. 1. 0. 1. 0.]]\n"
     ]
    }
   ],
   "source": [
    "a=np.zeros((8,8))\n",
    "a[1::2,::2]=1\n",
    "a[::2,1::2]=1\n",
    "print(a)"
   ]
  },
  {
   "cell_type": "markdown",
   "id": "8837119b",
   "metadata": {},
   "source": [
    "#### 20. Consider a (6,7,8) shape array, what is the index (x,y,z) of the 100th element? (★☆☆)"
   ]
  },
  {
   "cell_type": "code",
   "execution_count": 12,
   "id": "2c0d16f1",
   "metadata": {},
   "outputs": [
    {
     "name": "stdout",
     "output_type": "stream",
     "text": [
      "(array([1], dtype=int64), array([5], dtype=int64), array([3], dtype=int64))\n"
     ]
    }
   ],
   "source": [
    "m=np.arange(0,336).reshape(6,7,8)\n",
    "print(np.where(m==99))"
   ]
  },
  {
   "cell_type": "markdown",
   "id": "ec788c9f",
   "metadata": {},
   "source": [
    "#### 21. Create a checkerboard 8x8 matrix using the tile function (★☆☆)"
   ]
  },
  {
   "cell_type": "code",
   "execution_count": 178,
   "id": "0a4f919f",
   "metadata": {},
   "outputs": [
    {
     "name": "stdout",
     "output_type": "stream",
     "text": [
      "[[0 1 0 1 0 1 0 1]\n",
      " [1 0 1 0 1 0 1 0]\n",
      " [0 1 0 1 0 1 0 1]\n",
      " [1 0 1 0 1 0 1 0]\n",
      " [0 1 0 1 0 1 0 1]\n",
      " [1 0 1 0 1 0 1 0]\n",
      " [0 1 0 1 0 1 0 1]\n",
      " [1 0 1 0 1 0 1 0]]\n"
     ]
    }
   ],
   "source": [
    "t=np.array([[0,1],[1,0]])\n",
    "print(np.tile(t,(4,4)))"
   ]
  },
  {
   "cell_type": "markdown",
   "id": "391791e0",
   "metadata": {},
   "source": [
    "#### 22. Normalize a 5x5 random matrix (★☆☆)"
   ]
  },
  {
   "cell_type": "code",
   "execution_count": 182,
   "id": "f6533d39",
   "metadata": {},
   "outputs": [
    {
     "name": "stdout",
     "output_type": "stream",
     "text": [
      "[[0.98349842 0.10218845 0.41671974 0.08629112 0.55825925]\n",
      " [0.0683429  0.4159983  0.28122222 0.82601502 0.21354277]\n",
      " [0.26031877 0.28874133 0.34568467 0.76361221 0.13396834]\n",
      " [0.28836976 0.95222746 0.71161021 0.40257266 0.14324029]\n",
      " [0.07853357 0.48193951 0.00359759 0.80772876 0.81496177]]\n",
      "[[1.         0.1006131  0.42159588 0.08438969 0.56603857]\n",
      " [0.06607332 0.42085964 0.28331911 0.83928639 0.21425145]\n",
      " [0.2619869  0.29099245 0.34910377 0.77560361 0.13304484]\n",
      " [0.29061325 0.96808763 0.72253497 0.40715862 0.14250697]\n",
      " [0.07647302 0.48815339 0.         0.82062505 0.82800642]]\n"
     ]
    }
   ],
   "source": [
    "s=np.random.rand(5,5)\n",
    "print(s)\n",
    "s=(s-s.min())/(s.max()-s.min())\n",
    "print(s)"
   ]
  },
  {
   "cell_type": "markdown",
   "id": "1e74d39e",
   "metadata": {},
   "source": [
    "#### 23. Create a custom dtype that describes a color as four unsigned bytes (RGBA) (★☆☆)"
   ]
  },
  {
   "cell_type": "code",
   "execution_count": 15,
   "id": "3f639d33",
   "metadata": {},
   "outputs": [],
   "source": [
    "color = np.dtype([(\"r\", np.ubyte),(\"g\", np.ubyte),(\"b\", np.ubyte),(\"a\", np.ubyte)])         "
   ]
  },
  {
   "cell_type": "markdown",
   "id": "78250c14",
   "metadata": {},
   "source": [
    "#### 24. Multiply a 5x3 matrix by a 3x2 matrix (real matrix product) (★☆☆)"
   ]
  },
  {
   "cell_type": "code",
   "execution_count": 188,
   "id": "9fe729cb",
   "metadata": {
    "scrolled": true
   },
   "outputs": [
    {
     "name": "stdout",
     "output_type": "stream",
     "text": [
      "[[0.20483071 0.21287711 0.75773059]\n",
      " [0.36646785 0.73552192 0.45806591]\n",
      " [0.18654684 0.40939842 0.09751574]\n",
      " [0.65187481 0.2747358  0.77191029]\n",
      " [0.44527056 0.70827949 0.53161927]] [[0.47662829 0.80814894]\n",
      " [0.65034342 0.70796233]\n",
      " [0.45068043 0.42920381]] [[0.57756569 0.64146356]\n",
      " [0.85945212 1.01348605]\n",
      " [0.3991115  0.48245041]\n",
      " [0.83725946 1.05262137]\n",
      " [0.91244385 1.08945314]]\n"
     ]
    }
   ],
   "source": [
    "a1=np.random.rand(5,3)\n",
    "a2=np.random.rand(3,2)\n",
    "a3=np.dot(a1,a2)\n",
    "print(a1,a2,a3)"
   ]
  },
  {
   "cell_type": "markdown",
   "id": "51898680",
   "metadata": {},
   "source": [
    "#### 25. Given a 1D array, negate all elements which are between 3 and 8, in place. (★☆☆)"
   ]
  },
  {
   "cell_type": "code",
   "execution_count": 5,
   "id": "51c90f2d",
   "metadata": {},
   "outputs": [
    {
     "name": "stdout",
     "output_type": "stream",
     "text": [
      "[ 0.93408201  0.17813089  0.82963692 -0.53379951 -0.21660368 -0.77508295\n",
      " -0.51181457 -0.27156212  0.23955128  0.78069496  0.8430943   0.46281731\n",
      "  0.77382209  0.3958858   0.22085707  0.35528901  0.78220471  0.52690943\n",
      "  0.96452663  0.88788034]\n"
     ]
    }
   ],
   "source": [
    "p=np.random.rand(20)\n",
    "p[3:8]=np.negative(p[3:8])\n",
    "print(p)"
   ]
  },
  {
   "cell_type": "markdown",
   "id": "89e78048",
   "metadata": {},
   "source": [
    "#### 26. What is the output of the following script? (★☆☆)\n",
    "```python\n",
    "# Author: Jake VanderPlas\n",
    "\n",
    "print(sum(range(5),-1))\n",
    "from numpy import *\n",
    "print(sum(range(5),-1))\n",
    "```"
   ]
  },
  {
   "cell_type": "code",
   "execution_count": 31,
   "id": "b62e9d1c",
   "metadata": {},
   "outputs": [
    {
     "data": {
      "text/plain": [
       "10"
      ]
     },
     "execution_count": 31,
     "metadata": {},
     "output_type": "execute_result"
    }
   ],
   "source": [
    "9\n",
    "10"
   ]
  },
  {
   "cell_type": "markdown",
   "id": "ebd10810",
   "metadata": {},
   "source": [
    "#### 27. Consider an integer vector Z, which of these expressions are legal? (★☆☆)\n",
    "```python\n",
    "Z**Z\n",
    "2 << Z >> 2\n",
    "Z <- Z\n",
    "1j*Z\n",
    "Z/1/1\n",
    "Z<Z>Z\n",
    "```"
   ]
  },
  {
   "cell_type": "code",
   "execution_count": 16,
   "id": "6ada209f",
   "metadata": {},
   "outputs": [
    {
     "ename": "NameError",
     "evalue": "name 'Z' is not defined",
     "output_type": "error",
     "traceback": [
      "\u001b[1;31m---------------------------------------------------------------------------\u001b[0m",
      "\u001b[1;31mNameError\u001b[0m                                 Traceback (most recent call last)",
      "\u001b[1;32m<ipython-input-16-4e3654d03fce>\u001b[0m in \u001b[0;36m<module>\u001b[1;34m\u001b[0m\n\u001b[1;32m----> 1\u001b[1;33m \u001b[0mZ\u001b[0m\u001b[1;33m**\u001b[0m\u001b[0mZ\u001b[0m\u001b[1;33m\u001b[0m\u001b[1;33m\u001b[0m\u001b[0m\n\u001b[0m\u001b[0;32m      2\u001b[0m \u001b[1;36m2\u001b[0m \u001b[1;33m<<\u001b[0m \u001b[0mZ\u001b[0m \u001b[1;33m>>\u001b[0m \u001b[1;36m2\u001b[0m\u001b[1;33m\u001b[0m\u001b[1;33m\u001b[0m\u001b[0m\n\u001b[0;32m      3\u001b[0m \u001b[0mZ\u001b[0m \u001b[1;33m<\u001b[0m\u001b[1;33m-\u001b[0m \u001b[0mZ\u001b[0m\u001b[1;33m\u001b[0m\u001b[1;33m\u001b[0m\u001b[0m\n\u001b[0;32m      4\u001b[0m \u001b[1;36m1j\u001b[0m\u001b[1;33m*\u001b[0m\u001b[0mZ\u001b[0m\u001b[1;33m\u001b[0m\u001b[1;33m\u001b[0m\u001b[0m\n\u001b[0;32m      5\u001b[0m \u001b[0mZ\u001b[0m\u001b[1;33m/\u001b[0m\u001b[1;36m1\u001b[0m\u001b[1;33m/\u001b[0m\u001b[1;36m1\u001b[0m\u001b[1;33m\u001b[0m\u001b[1;33m\u001b[0m\u001b[0m\n",
      "\u001b[1;31mNameError\u001b[0m: name 'Z' is not defined"
     ]
    }
   ],
   "source": [
    "Z**Z\n",
    "2 << Z >> 2\n",
    "Z <- Z\n",
    "1j*Z\n",
    "Z/1/1\n",
    "Z<Z>Z"
   ]
  },
  {
   "cell_type": "markdown",
   "id": "c0e940f8",
   "metadata": {},
   "source": [
    "#### 28. What are the result of the following expressions? (★☆☆)\n",
    "```python\n",
    "np.array(0) / np.array(0)\n",
    "np.array(0) // np.array(0)\n",
    "np.array([np.nan]).astype(int).astype(float)\n",
    "```"
   ]
  },
  {
   "cell_type": "code",
   "execution_count": 20,
   "id": "820dc7a5",
   "metadata": {},
   "outputs": [
    {
     "name": "stdout",
     "output_type": "stream",
     "text": [
      "0 [-2.14748365e+09]\n"
     ]
    },
    {
     "name": "stderr",
     "output_type": "stream",
     "text": [
      "<ipython-input-20-961dcd252a8f>:3: RuntimeWarning: divide by zero encountered in floor_divide\n",
      "  print(g//g,h)\n"
     ]
    }
   ],
   "source": [
    "g=np.array(0)\n",
    "h=np.array([np.nan]).astype(int).astype(float)\n",
    "print(g//g,h)"
   ]
  },
  {
   "cell_type": "markdown",
   "id": "22713c3f",
   "metadata": {},
   "source": [
    "#### 29. How to round away from zero a float array ? (★☆☆)"
   ]
  },
  {
   "cell_type": "code",
   "execution_count": 22,
   "id": "a3e05c29",
   "metadata": {},
   "outputs": [
    {
     "name": "stdout",
     "output_type": "stream",
     "text": [
      "[0.99189643 0.33926546 0.28405355 0.93881937 0.74531342 0.21603299\n",
      " 0.82792206 0.07209393 0.51574034 0.87395661 0.96267337 0.26972967\n",
      " 0.42411784 0.04743558 0.9219354  0.9921384  0.17914775 0.88777033\n",
      " 0.16451323 0.5914458 ] [1. 0. 0. 1. 1. 0. 1. 0. 1. 1. 1. 0. 0. 0. 1. 1. 0. 1. 0. 1.]\n"
     ]
    }
   ],
   "source": [
    "q=np.random.rand(20)\n",
    "print(q,np.round(q,0))"
   ]
  },
  {
   "cell_type": "markdown",
   "id": "f1ae2c2d",
   "metadata": {},
   "source": [
    "#### 30. How to find common values between two arrays? (★☆☆)"
   ]
  },
  {
   "cell_type": "code",
   "execution_count": 24,
   "id": "6801c73d",
   "metadata": {},
   "outputs": [
    {
     "name": "stdout",
     "output_type": "stream",
     "text": [
      "[1 5 7 8]\n"
     ]
    }
   ],
   "source": [
    "d=np.arange(0,10)\n",
    "b=np.array([5,8,7,89,1])\n",
    "print(np.intersect1d(d,b))"
   ]
  },
  {
   "cell_type": "markdown",
   "id": "34a7bdee",
   "metadata": {},
   "source": [
    "#### 31. How to ignore all numpy warnings (not recommended)? (★☆☆)"
   ]
  },
  {
   "cell_type": "code",
   "execution_count": null,
   "id": "befc60d1",
   "metadata": {},
   "outputs": [],
   "source": [
    "defaults = np.seterr(all=\"ignore\")\n",
    "Z = np.ones(1) / 0"
   ]
  },
  {
   "cell_type": "markdown",
   "id": "37bc0973",
   "metadata": {},
   "source": [
    "#### 32. Is the following expressions true? (★☆☆)\n",
    "```python\n",
    "np.sqrt(-1) == np.emath.sqrt(-1)\n",
    "```"
   ]
  },
  {
   "cell_type": "code",
   "execution_count": 27,
   "id": "c70cbabe",
   "metadata": {},
   "outputs": [
    {
     "name": "stderr",
     "output_type": "stream",
     "text": [
      "<ipython-input-27-16339fbc685e>:1: RuntimeWarning: invalid value encountered in sqrt\n",
      "  np.sqrt(-1) == np.emath.sqrt(-1)\n"
     ]
    },
    {
     "data": {
      "text/plain": [
       "False"
      ]
     },
     "execution_count": 27,
     "metadata": {},
     "output_type": "execute_result"
    }
   ],
   "source": [
    "np.sqrt(-1) == np.emath.sqrt(-1)"
   ]
  },
  {
   "cell_type": "markdown",
   "id": "129c342d",
   "metadata": {},
   "source": [
    "#### 33. How to get the dates of yesterday, today and tomorrow? (★☆☆)"
   ]
  },
  {
   "cell_type": "code",
   "execution_count": 44,
   "id": "8ba1badb",
   "metadata": {},
   "outputs": [
    {
     "name": "stdout",
     "output_type": "stream",
     "text": [
      "today: 2021-08-29 tomarrow: 2021-08-30 yesterday: 2021-08-28\n"
     ]
    }
   ],
   "source": [
    "import datetime \n",
    "tod=datetime.date.today()\n",
    "tom=tod+datetime.timedelta(days=1)\n",
    "yes=tod-datetime.timedelta(days=1)\n",
    "print('today:',tod,'tomarrow:',tom,'yesterday:',yes)"
   ]
  },
  {
   "cell_type": "markdown",
   "id": "42f8b2f9",
   "metadata": {},
   "source": [
    "#### 34. How to get all the dates corresponding to the month of July 2016? (★★☆)"
   ]
  },
  {
   "cell_type": "code",
   "execution_count": 32,
   "id": "eb8ebe45",
   "metadata": {},
   "outputs": [
    {
     "name": "stdout",
     "output_type": "stream",
     "text": [
      "['2016-07-01' '2016-07-02' '2016-07-03' '2016-07-04' '2016-07-05'\n",
      " '2016-07-06' '2016-07-07' '2016-07-08' '2016-07-09' '2016-07-10'\n",
      " '2016-07-11' '2016-07-12' '2016-07-13' '2016-07-14' '2016-07-15'\n",
      " '2016-07-16' '2016-07-17' '2016-07-18' '2016-07-19' '2016-07-20'\n",
      " '2016-07-21' '2016-07-22' '2016-07-23' '2016-07-24' '2016-07-25'\n",
      " '2016-07-26' '2016-07-27' '2016-07-28' '2016-07-29' '2016-07-30'\n",
      " '2016-07-31']\n"
     ]
    }
   ],
   "source": [
    "dates=np.arange('2016-07','2016-08',dtype='datetime64[D]')\n",
    "print(dates)"
   ]
  },
  {
   "cell_type": "markdown",
   "id": "252c43e2",
   "metadata": {},
   "source": [
    "#### 35. How to compute ((A+B)*(-A/2)) in place (without copy)? (★★☆)"
   ]
  },
  {
   "cell_type": "code",
   "execution_count": 39,
   "id": "f06ff615",
   "metadata": {},
   "outputs": [
    {
     "name": "stdout",
     "output_type": "stream",
     "text": [
      "[[   0.   -8.  -18.]\n",
      " [ -30.  -44.  -60.]\n",
      " [ -78.  -98. -120.]]\n"
     ]
    }
   ],
   "source": [
    "A=np.arange(0,9).reshape(3,3)\n",
    "B=np.arange(14,23).reshape(3,3)\n",
    "np.add(A,B,out=B)\n",
    "np.negative(A,out=A)\n",
    "np.multiply(A,B,out=A)\n",
    "print(A/2)"
   ]
  },
  {
   "cell_type": "markdown",
   "id": "486df8ea",
   "metadata": {},
   "source": [
    "#### 36. Extract the integer part of a random array of positive numbers using 4 different methods (★★☆)"
   ]
  },
  {
   "cell_type": "code",
   "execution_count": 44,
   "id": "34b4fa08",
   "metadata": {},
   "outputs": [
    {
     "name": "stdout",
     "output_type": "stream",
     "text": [
      "[2.01993397 0.23974688 5.0753803  7.62306496 2.08144827 7.69707493\n",
      " 6.80790121 3.88342459 6.21965114 0.55740603 5.11797706 8.38455301\n",
      " 4.0495134  8.6252661  7.14211739 2.20443065 7.22801335 4.88167415\n",
      " 8.56680729 5.1579746 ] [2. 0. 5. 8. 2. 8. 7. 4. 6. 1. 5. 8. 4. 9. 7. 2. 7. 5. 9. 5.]\n",
      "[2. 0. 5. 7. 2. 7. 6. 3. 6. 0. 5. 8. 4. 8. 7. 2. 7. 4. 8. 5.]\n"
     ]
    }
   ],
   "source": [
    "q=np.random.uniform(0,10,20)\n",
    "print(q,np.round(q,0))\n",
    "print(np.floor(q))\n",
    "print(np.floor(q))print(np.floor(q))"
   ]
  },
  {
   "cell_type": "markdown",
   "id": "649e89f9",
   "metadata": {},
   "source": [
    "#### 37. Create a 5x5 matrix with row values ranging from 0 to 4 (★★☆)"
   ]
  },
  {
   "cell_type": "code",
   "execution_count": 47,
   "id": "663cc611",
   "metadata": {},
   "outputs": [
    {
     "name": "stdout",
     "output_type": "stream",
     "text": [
      "[[0 1 2 3 4]\n",
      " [0 1 2 3 4]\n",
      " [0 1 2 3 4]\n",
      " [0 1 2 3 4]]\n"
     ]
    }
   ],
   "source": [
    "d=np.arange(0,5)\n",
    "print(np.tile(d,(4,1)))"
   ]
  },
  {
   "cell_type": "markdown",
   "id": "3421e17f",
   "metadata": {},
   "source": [
    "#### 38. Consider a generator function that generates 10 integers and use it to build an array (★☆☆)"
   ]
  },
  {
   "cell_type": "code",
   "execution_count": 14,
   "id": "7336b8e4",
   "metadata": {},
   "outputs": [
    {
     "name": "stdout",
     "output_type": "stream",
     "text": [
      "[0 1 2 3 4 5 6 7 8 9]\n"
     ]
    }
   ],
   "source": [
    "def function():\n",
    "    for x in range(10):\n",
    "        yield x\n",
    "b=np.array(list(function()))\n",
    "print(b)"
   ]
  },
  {
   "cell_type": "markdown",
   "id": "483dd554",
   "metadata": {},
   "source": [
    "#### 39. Create a vector of size 10 with values ranging from 0 to 1, both excluded (★★☆)"
   ]
  },
  {
   "cell_type": "code",
   "execution_count": 27,
   "id": "c89b93e7",
   "metadata": {},
   "outputs": [
    {
     "name": "stdout",
     "output_type": "stream",
     "text": [
      "[0.09090909 0.18181818 0.27272727 0.36363636 0.45454545 0.54545455\n",
      " 0.63636364 0.72727273 0.81818182 0.90909091]\n"
     ]
    }
   ],
   "source": [
    "c=np.linspace(0,1,11,endpoint=False)[1:]\n",
    "print(c)"
   ]
  },
  {
   "cell_type": "markdown",
   "id": "2d07be1c",
   "metadata": {},
   "source": [
    "#### 40. Create a random vector of size 10 and sort it (★★☆)"
   ]
  },
  {
   "cell_type": "code",
   "execution_count": 36,
   "id": "4f7cb3ad",
   "metadata": {},
   "outputs": [
    {
     "name": "stdout",
     "output_type": "stream",
     "text": [
      "[3 5 1 3 6 5 6 2 3 1] [1 1 2 3 3 3 5 5 6 6]\n"
     ]
    }
   ],
   "source": [
    "d=np.random.randint(1,7,10)\n",
    "print(d,np.sort(d))"
   ]
  },
  {
   "cell_type": "markdown",
   "id": "6415f02e",
   "metadata": {},
   "source": [
    "#### 41. How to sum a small array faster than np.sum? (★★☆)"
   ]
  },
  {
   "cell_type": "code",
   "execution_count": 37,
   "id": "bb0dd942",
   "metadata": {},
   "outputs": [
    {
     "name": "stdout",
     "output_type": "stream",
     "text": [
      "34\n"
     ]
    }
   ],
   "source": [
    "d=np.random.randint(1,7,10)\n",
    "print(np.add.reduce(d))"
   ]
  },
  {
   "cell_type": "markdown",
   "id": "fe043549",
   "metadata": {},
   "source": [
    "#### 42. Consider two random array A and B, check if they are equal (★★☆)"
   ]
  },
  {
   "cell_type": "code",
   "execution_count": 43,
   "id": "3326a686",
   "metadata": {},
   "outputs": [
    {
     "name": "stdout",
     "output_type": "stream",
     "text": [
      "False\n",
      "False\n"
     ]
    }
   ],
   "source": [
    "A=np.random.rand(10)\n",
    "B=np.random.rand(10)\n",
    "print(np.allclose(A,B))\n",
    "print(np.array_equal(A,B))"
   ]
  },
  {
   "cell_type": "markdown",
   "id": "cc08f71c",
   "metadata": {},
   "source": [
    "#### 43. Make an array immutable (read-only) (★★☆)"
   ]
  },
  {
   "cell_type": "code",
   "execution_count": 50,
   "id": "d5cc9dbe",
   "metadata": {},
   "outputs": [
    {
     "name": "stdout",
     "output_type": "stream",
     "text": [
      "[0.3647417  0.13338802 0.02458761 0.11280708 0.28738126 0.80585655\n",
      " 0.64324544 0.8431352  0.93328524 0.31989697]\n"
     ]
    },
    {
     "ename": "ValueError",
     "evalue": "assignment destination is read-only",
     "output_type": "error",
     "traceback": [
      "\u001b[1;31m---------------------------------------------------------------------------\u001b[0m",
      "\u001b[1;31mValueError\u001b[0m                                Traceback (most recent call last)",
      "\u001b[1;32m<ipython-input-50-d452cd6baa85>\u001b[0m in \u001b[0;36m<module>\u001b[1;34m\u001b[0m\n\u001b[0;32m      2\u001b[0m \u001b[0mA\u001b[0m\u001b[1;33m.\u001b[0m\u001b[0mflags\u001b[0m\u001b[1;33m.\u001b[0m\u001b[0mwriteable\u001b[0m\u001b[1;33m=\u001b[0m\u001b[1;32mFalse\u001b[0m\u001b[1;33m\u001b[0m\u001b[1;33m\u001b[0m\u001b[0m\n\u001b[0;32m      3\u001b[0m \u001b[0mprint\u001b[0m\u001b[1;33m(\u001b[0m\u001b[0mA\u001b[0m\u001b[1;33m)\u001b[0m\u001b[1;33m\u001b[0m\u001b[1;33m\u001b[0m\u001b[0m\n\u001b[1;32m----> 4\u001b[1;33m \u001b[0mA\u001b[0m\u001b[1;33m[\u001b[0m\u001b[1;36m1\u001b[0m\u001b[1;33m]\u001b[0m\u001b[1;33m=\u001b[0m\u001b[1;36m1\u001b[0m\u001b[1;33m\u001b[0m\u001b[1;33m\u001b[0m\u001b[0m\n\u001b[0m",
      "\u001b[1;31mValueError\u001b[0m: assignment destination is read-only"
     ]
    }
   ],
   "source": [
    "A=np.random.rand(10)\n",
    "A.flags.writeable=False\n",
    "print(A)\n",
    "A[1]=1"
   ]
  },
  {
   "cell_type": "markdown",
   "id": "2002cb03",
   "metadata": {},
   "source": [
    "#### 44. Consider a random 10x2 matrix representing cartesian coordinates, convert them to polar coordinates (★★☆)"
   ]
  },
  {
   "cell_type": "code",
   "execution_count": 79,
   "id": "58be72bc",
   "metadata": {},
   "outputs": [
    {
     "name": "stdout",
     "output_type": "stream",
     "text": [
      "[[36 24]\n",
      " [40 23]\n",
      " [49 24]\n",
      " [10 37]\n",
      " [35  3]\n",
      " [ 2 19]\n",
      " [32  4]\n",
      " [ 9 29]\n",
      " [40 30]\n",
      " [ 7 31]] [[[43.26661531  0.5880026 ]\n",
      "  [46.14108798  0.52183428]\n",
      "  [54.56189146  0.45545107]\n",
      "  [38.32753579  1.3068326 ]\n",
      "  [35.12833614  0.08550529]\n",
      "  [19.10497317  1.46591939]\n",
      "  [32.24903099  0.12435499]\n",
      "  [30.3644529   1.26987609]\n",
      "  [50.          0.64350111]\n",
      "  [31.78049716  1.34871442]]]\n"
     ]
    }
   ],
   "source": [
    "c=np.random.randint(1,50,20).reshape((10,2))\n",
    "x=c[:,0]\n",
    "y=c[:,1]\n",
    "r=np.sqrt(x**2+y**2)\n",
    "t=np.arctan2(y,x)\n",
    "p=np.dstack((r,t))\n",
    "print(c,p)"
   ]
  },
  {
   "cell_type": "markdown",
   "id": "b7109c9f",
   "metadata": {},
   "source": [
    "#### 45. Create random vector of size 10 and replace the maximum value by 0 (★★☆)"
   ]
  },
  {
   "cell_type": "code",
   "execution_count": 86,
   "id": "f79e79a7",
   "metadata": {},
   "outputs": [
    {
     "name": "stdout",
     "output_type": "stream",
     "text": [
      "[0.38979319 0.01327955 0.0440646  0.616737   0.80819196 0.30725781\n",
      " 0.23856521 0.37804818 0.90105654 0.27299556]\n",
      "[0.38979319 0.01327955 0.0440646  0.616737   0.80819196 0.30725781\n",
      " 0.23856521 0.37804818 0.         0.27299556]\n"
     ]
    }
   ],
   "source": [
    "A=np.random.rand(10)\n",
    "print(A)\n",
    "A[A.argmax()]=0\n",
    "print(A)"
   ]
  },
  {
   "cell_type": "markdown",
   "id": "7d3131b9",
   "metadata": {},
   "source": [
    "#### 46. Create a structured array with `x` and `y` coordinates covering the [0,1]x[0,1] area (★★☆)"
   ]
  },
  {
   "cell_type": "code",
   "execution_count": 121,
   "id": "4f471afe",
   "metadata": {},
   "outputs": [
    {
     "name": "stdout",
     "output_type": "stream",
     "text": [
      "[[(0. , 0. ) (0.5, 0. ) (1. , 0. )]\n",
      " [(0. , 0.5) (0.5, 0.5) (1. , 0.5)]\n",
      " [(0. , 1. ) (0.5, 1. ) (1. , 1. )]]\n"
     ]
    }
   ],
   "source": [
    "s=np.linspace(0,1,3)\n",
    "s3=np.zeros((3,3),[('x',float),('y',float)])\n",
    "s3['x'],s3['y']= np.meshgrid(s,s)\n",
    "print(s3)"
   ]
  },
  {
   "cell_type": "markdown",
   "id": "7c8c1fc5",
   "metadata": {},
   "source": [
    "#### 47. Given two arrays, X and Y, construct the Cauchy matrix C (Cij =1/(xi - yj)) (★★☆)"
   ]
  },
  {
   "cell_type": "code",
   "execution_count": 144,
   "id": "8fac7d28",
   "metadata": {},
   "outputs": [
    {
     "name": "stdout",
     "output_type": "stream",
     "text": [
      "[[-0.1        -0.11111111 -0.125      -0.14285714 -0.16666667 -0.2\n",
      "  -0.25       -0.33333333 -0.5        -1.        ]\n",
      " [-0.09090909 -0.1        -0.11111111 -0.125      -0.14285714 -0.16666667\n",
      "  -0.2        -0.25       -0.33333333 -0.5       ]\n",
      " [-0.08333333 -0.09090909 -0.1        -0.11111111 -0.125      -0.14285714\n",
      "  -0.16666667 -0.2        -0.25       -0.33333333]\n",
      " [-0.07692308 -0.08333333 -0.09090909 -0.1        -0.11111111 -0.125\n",
      "  -0.14285714 -0.16666667 -0.2        -0.25      ]\n",
      " [-0.07142857 -0.07692308 -0.08333333 -0.09090909 -0.1        -0.11111111\n",
      "  -0.125      -0.14285714 -0.16666667 -0.2       ]\n",
      " [-0.06666667 -0.07142857 -0.07692308 -0.08333333 -0.09090909 -0.1\n",
      "  -0.11111111 -0.125      -0.14285714 -0.16666667]\n",
      " [-0.0625     -0.06666667 -0.07142857 -0.07692308 -0.08333333 -0.09090909\n",
      "  -0.1        -0.11111111 -0.125      -0.14285714]\n",
      " [-0.05882353 -0.0625     -0.06666667 -0.07142857 -0.07692308 -0.08333333\n",
      "  -0.09090909 -0.1        -0.11111111 -0.125     ]\n",
      " [-0.05555556 -0.05882353 -0.0625     -0.06666667 -0.07142857 -0.07692308\n",
      "  -0.08333333 -0.09090909 -0.1        -0.11111111]\n",
      " [-0.05263158 -0.05555556 -0.05882353 -0.0625     -0.06666667 -0.07142857\n",
      "  -0.07692308 -0.08333333 -0.09090909 -0.1       ]]\n"
     ]
    }
   ],
   "source": [
    "x=np.arange(10)\n",
    "y=x+10\n",
    "x1=np.tile(x,(10,1))\n",
    "y1=np.tile(y,(10,1)).transpose()\n",
    "c=1/(x1-y1)\n",
    "print(c)"
   ]
  },
  {
   "cell_type": "markdown",
   "id": "5795b4bd",
   "metadata": {},
   "source": [
    "#### 48. Print the minimum and maximum representable value for each numpy scalar type (★★☆)"
   ]
  },
  {
   "cell_type": "code",
   "execution_count": 145,
   "id": "b721f7ca",
   "metadata": {},
   "outputs": [
    {
     "name": "stdout",
     "output_type": "stream",
     "text": [
      "-128\n",
      "127\n",
      "-2147483648\n",
      "2147483647\n",
      "-9223372036854775808\n",
      "9223372036854775807\n",
      "-3.4028235e+38\n",
      "3.4028235e+38\n",
      "1.1920929e-07\n",
      "-1.7976931348623157e+308\n",
      "1.7976931348623157e+308\n",
      "2.220446049250313e-16\n"
     ]
    }
   ],
   "source": [
    "for dtype in [np.int8, np.int32, np.int64]:\n",
    "   print(np.iinfo(dtype).min)\n",
    "   print(np.iinfo(dtype).max)\n",
    "for dtype in [np.float32, np.float64]:\n",
    "   print(np.finfo(dtype).min)\n",
    "   print(np.finfo(dtype).max)\n",
    "   print(np.finfo(dtype).eps)"
   ]
  },
  {
   "cell_type": "markdown",
   "id": "fb24674c",
   "metadata": {},
   "source": [
    "#### 49. How to print all the values of an array? (★★☆)"
   ]
  },
  {
   "cell_type": "code",
   "execution_count": 148,
   "id": "c81f1456",
   "metadata": {},
   "outputs": [
    {
     "name": "stdout",
     "output_type": "stream",
     "text": [
      "[0 1 2 3 4 5 6 7 8 9]\n"
     ]
    }
   ],
   "source": [
    "np.set_printoptions(threshold=float(\"inf\"))\n",
    "x=np.arange(10)\n",
    "print(x)"
   ]
  },
  {
   "cell_type": "markdown",
   "id": "e6e1ae2f",
   "metadata": {},
   "source": [
    "#### 50. How to find the closest value (to a given scalar) in a vector? (★★☆)"
   ]
  },
  {
   "cell_type": "code",
   "execution_count": 156,
   "id": "73dd91cc",
   "metadata": {},
   "outputs": [
    {
     "name": "stdout",
     "output_type": "stream",
     "text": [
      "[0.08262765 0.37512094 0.95731354 0.38832809 0.26012618 0.78967945\n",
      " 0.31225302 0.55336566 0.09946436 0.0502434 ] 0.8162395257008492 0.7896794527761457\n"
     ]
    }
   ],
   "source": [
    "m=np.random.rand(10)\n",
    "n=np.random.uniform(0,1)\n",
    "print(m,n,m[abs(m-n).argmin()])"
   ]
  },
  {
   "cell_type": "markdown",
   "id": "c01f0ecf",
   "metadata": {},
   "source": [
    "#### 51. Create a structured array representing a position (x,y) and a color (r,g,b) (★★☆)"
   ]
  },
  {
   "cell_type": "code",
   "execution_count": 157,
   "id": "fb8017ca",
   "metadata": {},
   "outputs": [
    {
     "name": "stdout",
     "output_type": "stream",
     "text": [
      "[((0., 0.), (0., 0., 0.)) ((0., 0.), (0., 0., 0.))\n",
      " ((0., 0.), (0., 0., 0.)) ((0., 0.), (0., 0., 0.))\n",
      " ((0., 0.), (0., 0., 0.)) ((0., 0.), (0., 0., 0.))\n",
      " ((0., 0.), (0., 0., 0.)) ((0., 0.), (0., 0., 0.))\n",
      " ((0., 0.), (0., 0., 0.)) ((0., 0.), (0., 0., 0.))]\n"
     ]
    },
    {
     "name": "stderr",
     "output_type": "stream",
     "text": [
      "<ipython-input-157-6f1aa4d7a2ff>:1: FutureWarning: Passing (type, 1) or '1type' as a synonym of type is deprecated; in a future version of numpy, it will be understood as (type, (1,)) / '(1,)type'.\n",
      "  Z = np.zeros(10, [ ('position', [ ('x', float, 1),\n"
     ]
    }
   ],
   "source": [
    "Z = np.zeros(10, [ ('position', [ ('x', float, 1),\n",
    "                                  ('y', float, 1)]),\n",
    "                   ('color',    [ ('r', float, 1),\n",
    "                                  ('g', float, 1),\n",
    "                                  ('b', float, 1)])])\n",
    "print(Z)"
   ]
  },
  {
   "cell_type": "markdown",
   "id": "3b64a18b",
   "metadata": {},
   "source": [
    "#### 52. Consider a random vector with shape (100,2) representing coordinates, find point by point distances (★★☆)"
   ]
  },
  {
   "cell_type": "code",
   "execution_count": 172,
   "id": "4b482822",
   "metadata": {},
   "outputs": [
    {
     "name": "stdout",
     "output_type": "stream",
     "text": [
      "[[ 0  1]\n",
      " [ 2  3]\n",
      " [ 4  5]\n",
      " [ 6  7]\n",
      " [ 8  9]\n",
      " [10 11]\n",
      " [12 13]\n",
      " [14 15]\n",
      " [16 17]\n",
      " [18 19]] [[ 0.          2.82842712  5.65685425  8.48528137 11.3137085  14.14213562\n",
      "  16.97056275 19.79898987 22.627417   25.45584412]\n",
      " [ 2.82842712  0.          2.82842712  5.65685425  8.48528137 11.3137085\n",
      "  14.14213562 16.97056275 19.79898987 22.627417  ]\n",
      " [ 5.65685425  2.82842712  0.          2.82842712  5.65685425  8.48528137\n",
      "  11.3137085  14.14213562 16.97056275 19.79898987]\n",
      " [ 8.48528137  5.65685425  2.82842712  0.          2.82842712  5.65685425\n",
      "   8.48528137 11.3137085  14.14213562 16.97056275]\n",
      " [11.3137085   8.48528137  5.65685425  2.82842712  0.          2.82842712\n",
      "   5.65685425  8.48528137 11.3137085  14.14213562]\n",
      " [14.14213562 11.3137085   8.48528137  5.65685425  2.82842712  0.\n",
      "   2.82842712  5.65685425  8.48528137 11.3137085 ]\n",
      " [16.97056275 14.14213562 11.3137085   8.48528137  5.65685425  2.82842712\n",
      "   0.          2.82842712  5.65685425  8.48528137]\n",
      " [19.79898987 16.97056275 14.14213562 11.3137085   8.48528137  5.65685425\n",
      "   2.82842712  0.          2.82842712  5.65685425]\n",
      " [22.627417   19.79898987 16.97056275 14.14213562 11.3137085   8.48528137\n",
      "   5.65685425  2.82842712  0.          2.82842712]\n",
      " [25.45584412 22.627417   19.79898987 16.97056275 14.14213562 11.3137085\n",
      "   8.48528137  5.65685425  2.82842712  0.        ]]\n"
     ]
    }
   ],
   "source": [
    "c=np.arange(20).reshape(10,2)\n",
    "x=np.atleast_2d(c[:,0])\n",
    "y=np.atleast_2d(c[:,1])\n",
    "r=np.sqrt((x-x.T)**2+(y-y.T)**2)\n",
    "print(c,r)"
   ]
  },
  {
   "cell_type": "markdown",
   "id": "48413134",
   "metadata": {},
   "source": [
    "#### 53. How to convert a float (32 bits) array into an integer (32 bits) in place?"
   ]
  },
  {
   "cell_type": "code",
   "execution_count": 4,
   "id": "5db64b6d",
   "metadata": {},
   "outputs": [
    {
     "name": "stdout",
     "output_type": "stream",
     "text": [
      "[0.00e+00 8.27e-44 1.35e-43 6.73e-44 1.23e-43 6.31e-44 1.23e-43 1.02e-43\n",
      " 9.67e-44 5.61e-44] [ 0 59 96 48 88 45 88 73 69 40]\n"
     ]
    }
   ],
   "source": [
    "z= (np.random.rand(10)*100).astype(np.float32)\n",
    "y=z.view(np.int32)\n",
    "y[:] = z\n",
    "print(z,y)"
   ]
  },
  {
   "cell_type": "markdown",
   "id": "0a532633",
   "metadata": {},
   "source": [
    "#### 54. How to read the following file? (★★☆)\n",
    "```\n",
    "1, 2, 3, 4, 5\n",
    "6,  ,  , 7, 8\n",
    " ,  , 9,10,11\n",
    "```"
   ]
  },
  {
   "cell_type": "code",
   "execution_count": 5,
   "id": "8af4f753",
   "metadata": {},
   "outputs": [
    {
     "name": "stdout",
     "output_type": "stream",
     "text": [
      "[[ 1  2  3  4  5]\n",
      " [ 6  0  0  7  8]\n",
      " [ 0  0  9 10 11]]\n"
     ]
    }
   ],
   "source": [
    "from io import StringIO\n",
    "\n",
    "chars = StringIO('''1, 2, 3, 4, 5\n",
    "\n",
    "                    6,  ,  , 7, 8\n",
    "\n",
    "                     ,  , 9, 10, 11\n",
    "''')\n",
    "read = np.genfromtxt(chars, delimiter=\",\", dtype=np.int32,filling_values=0)\n",
    "print(read)"
   ]
  },
  {
   "cell_type": "markdown",
   "id": "f98713a6",
   "metadata": {},
   "source": [
    "#### 55. What is the equivalent of enumerate for numpy arrays? (★★☆)"
   ]
  },
  {
   "cell_type": "code",
   "execution_count": 16,
   "id": "64795f84",
   "metadata": {},
   "outputs": [
    {
     "name": "stdout",
     "output_type": "stream",
     "text": [
      "(0, 0) 0.8679133836315995\n",
      "(0, 1) 0.8806790075743737\n",
      "(1, 0) 0.11791402650787108\n",
      "(1, 1) 0.21158635453007646\n",
      "(2, 0) 0.47964082097869964\n",
      "(2, 1) 0.317983804807525\n",
      "(3, 0) 0.5386197181788633\n",
      "(3, 1) 0.14851028978032887\n",
      "(4, 0) 0.495748641861284\n",
      "(4, 1) 0.6403520713556766\n",
      "(0, 0) 0.8679133836315995\n",
      "(0, 1) 0.8806790075743737\n",
      "(1, 0) 0.11791402650787108\n",
      "(1, 1) 0.21158635453007646\n",
      "(2, 0) 0.47964082097869964\n",
      "(2, 1) 0.317983804807525\n",
      "(3, 0) 0.5386197181788633\n",
      "(3, 1) 0.14851028978032887\n",
      "(4, 0) 0.495748641861284\n",
      "(4, 1) 0.6403520713556766\n"
     ]
    }
   ],
   "source": [
    "b=np.random.rand(10).reshape(5,2)\n",
    "for i,v in  np.ndenumerate(b):\n",
    "    print(i,v)\n",
    "for i in np.ndindex(b.shape):\n",
    "    print(i,b[i])"
   ]
  },
  {
   "cell_type": "markdown",
   "id": "1abc7cc8",
   "metadata": {},
   "source": [
    "#### 56. Generate a generic 2D Gaussian-like array (★★☆)"
   ]
  },
  {
   "cell_type": "code",
   "execution_count": 28,
   "id": "42e3a5bc",
   "metadata": {},
   "outputs": [
    {
     "name": "stdout",
     "output_type": "stream",
     "text": [
      "[[0.05854983 0.0851895  0.09653235 0.0851895  0.05854983]\n",
      " [0.0851895  0.12394999 0.14045374 0.12394999 0.0851895 ]\n",
      " [0.09653235 0.14045374 0.15915494 0.14045374 0.09653235]\n",
      " [0.0851895  0.12394999 0.14045374 0.12394999 0.0851895 ]\n",
      " [0.05854983 0.0851895  0.09653235 0.0851895  0.05854983]]\n"
     ]
    }
   ],
   "source": [
    "x,y=np.meshgrid(np.linspace(-1,1,5),np.linspace(-1,1,5))\n",
    "s_x,s_y,m_x,m_y=1,1,0,0\n",
    "g=np.exp(-(((x-m_x)**2)/(2*s_x**2)+((y-m_y)**2)/(2*s_y**2)))\n",
    "print(g/(2*np.pi*s_x*s_y))"
   ]
  },
  {
   "cell_type": "markdown",
   "id": "0cf413ee",
   "metadata": {},
   "source": [
    "#### 57. How to randomly place p elements in a 2D array? (★★☆)"
   ]
  },
  {
   "cell_type": "code",
   "execution_count": 42,
   "id": "dfc57e06",
   "metadata": {},
   "outputs": [
    {
     "name": "stdout",
     "output_type": "stream",
     "text": [
      "[[1.        1.        1.       ]\n",
      " [0.0552663 1.        1.       ]\n",
      " [1.        1.        1.       ]] 8\n"
     ]
    }
   ],
   "source": [
    "d=np.random.rand(3,3)\n",
    "p=np.random.randint(0,9)\n",
    "np.put(d,np.random.choice(range(9), p, replace=False),1)\n",
    "print(d,p)"
   ]
  },
  {
   "cell_type": "markdown",
   "id": "215b6acc",
   "metadata": {},
   "source": [
    "#### 58. Subtract the mean of each row of a matrix (★★☆)"
   ]
  },
  {
   "cell_type": "code",
   "execution_count": 49,
   "id": "dd1adef4",
   "metadata": {},
   "outputs": [
    {
     "name": "stdout",
     "output_type": "stream",
     "text": [
      "[[-0.12102632  0.03933349  0.08169283]\n",
      " [-0.01313208 -0.19355768  0.20668975]\n",
      " [ 0.09298265 -0.1159763   0.02299365]]\n"
     ]
    }
   ],
   "source": [
    "h=np.random.rand(3,3)\n",
    "j=h-h.mean(axis=1).reshape(-1,1)\n",
    "print(j)"
   ]
  },
  {
   "cell_type": "markdown",
   "id": "c0cf37e0",
   "metadata": {},
   "source": [
    "#### 59. How to sort an array by the nth column? (★★☆)"
   ]
  },
  {
   "cell_type": "code",
   "execution_count": 65,
   "id": "9336ca5f",
   "metadata": {},
   "outputs": [
    {
     "name": "stdout",
     "output_type": "stream",
     "text": [
      "[[28 25 14  1 49]\n",
      " [41 27 14  2 39]\n",
      " [42 13  2 30 23]\n",
      " [20 38 24 28 49]\n",
      " [ 7 35  2 41 46]]\n",
      "[[42 13  2 30 23]\n",
      " [41 27 14  2 39]\n",
      " [ 7 35  2 41 46]\n",
      " [28 25 14  1 49]\n",
      " [20 38 24 28 49]]\n"
     ]
    }
   ],
   "source": [
    "h=np.random.randint(1,50,(5,5))\n",
    "print(h)\n",
    "print(h[h[:,4].argsort()])"
   ]
  },
  {
   "cell_type": "markdown",
   "id": "c17fb213",
   "metadata": {},
   "source": [
    "#### 60. How to tell if a given 2D array has null columns? (★★☆)"
   ]
  },
  {
   "cell_type": "code",
   "execution_count": 80,
   "id": "7fdda78d",
   "metadata": {},
   "outputs": [
    {
     "name": "stdout",
     "output_type": "stream",
     "text": [
      "[[0 2 1 2 1 0 0 2 0]\n",
      " [2 2 1 2 2 1 0 0 1]\n",
      " [0 0 0 2 0 1 1 0 2]] False\n"
     ]
    }
   ],
   "source": [
    "n=np.random.randint(0,3,(3,9))\n",
    "print(n,(~n.any(axis=0)).any())"
   ]
  },
  {
   "cell_type": "markdown",
   "id": "8aaab886",
   "metadata": {},
   "source": [
    "#### 61. Find the nearest value from a given value in an array (★★☆)"
   ]
  },
  {
   "cell_type": "code",
   "execution_count": 95,
   "id": "973f8079",
   "metadata": {},
   "outputs": [
    {
     "name": "stdout",
     "output_type": "stream",
     "text": [
      "[ 4 28  3  9  0  8 41 46  4 41] 6 4\n"
     ]
    }
   ],
   "source": [
    "n=np.random.randint(0,50,10)\n",
    "p=np.random.randint(0,50)\n",
    "print(n,p,n.flat[np.abs(n-p).argmin()])"
   ]
  },
  {
   "cell_type": "markdown",
   "id": "66a04e2e",
   "metadata": {},
   "source": [
    "#### 62. Considering two arrays with shape (1,3) and (3,1), how to compute their sum using an iterator? (★★☆)"
   ]
  },
  {
   "cell_type": "code",
   "execution_count": 100,
   "id": "4b356632",
   "metadata": {},
   "outputs": [
    {
     "name": "stdout",
     "output_type": "stream",
     "text": [
      "[[ 3 11 19]] [[ 2]\n",
      " [19]\n",
      " [22]] [[ 5 13 21]\n",
      " [22 30 38]\n",
      " [25 33 41]]\n"
     ]
    }
   ],
   "source": [
    "a=np.random.randint(1,20,(1,3))\n",
    "b=np.random.randint(1,30,(3,1))\n",
    "c=np.nditer([a,b,None])\n",
    "for x,y,z in c: z[...] = x + y\n",
    "print(a,b,c.operands[2])"
   ]
  },
  {
   "cell_type": "markdown",
   "id": "f4427f7f",
   "metadata": {},
   "source": [
    "#### 63. Create an array class that has a name attribute (★★☆)"
   ]
  },
  {
   "cell_type": "code",
   "execution_count": 107,
   "id": "fe253212",
   "metadata": {},
   "outputs": [
    {
     "name": "stdout",
     "output_type": "stream",
     "text": [
      "[0 1 2 3 4 5 6 7 8 9] range_10\n"
     ]
    }
   ],
   "source": [
    "class NamedArray(np.ndarray):\n",
    "    def __new__(cls, array, name=\"no name\"):\n",
    "        obj=np.asarray(array).view(cls)\n",
    "        obj.name=name\n",
    "        return obj\n",
    "    def __array_finalize__(self,obj):\n",
    "        if obj is None: return\n",
    "        self.info = getattr(obj,'name',\"no name\")\n",
    "z=NamedArray(np.arange(10),\"range_10\")\n",
    "print(z,z.name)"
   ]
  },
  {
   "cell_type": "markdown",
   "id": "58be9dd4",
   "metadata": {},
   "source": [
    "#### 64. Consider a given vector, how to add 1 to each element indexed by a second vector (be careful with repeated indices)? (★★★)"
   ]
  },
  {
   "cell_type": "code",
   "execution_count": 6,
   "id": "5c8bae42",
   "metadata": {},
   "outputs": [
    {
     "name": "stdout",
     "output_type": "stream",
     "text": [
      "[ 1 14 13  0 19  9  9  8 18  4]\n"
     ]
    },
    {
     "ename": "IndexError",
     "evalue": "arrays used as indices must be of integer (or boolean) type",
     "output_type": "error",
     "traceback": [
      "\u001b[1;31m---------------------------------------------------------------------------\u001b[0m",
      "\u001b[1;31mIndexError\u001b[0m                                Traceback (most recent call last)",
      "\u001b[1;32m<ipython-input-6-a75f9bf42dd2>\u001b[0m in \u001b[0;36m<module>\u001b[1;34m\u001b[0m\n\u001b[0;32m      2\u001b[0m \u001b[0mb\u001b[0m\u001b[1;33m=\u001b[0m\u001b[0mnp\u001b[0m\u001b[1;33m.\u001b[0m\u001b[0mones\u001b[0m\u001b[1;33m(\u001b[0m\u001b[1;36m10\u001b[0m\u001b[1;33m)\u001b[0m\u001b[1;33m\u001b[0m\u001b[1;33m\u001b[0m\u001b[0m\n\u001b[0;32m      3\u001b[0m \u001b[0mprint\u001b[0m\u001b[1;33m(\u001b[0m\u001b[0ma\u001b[0m\u001b[1;33m)\u001b[0m\u001b[1;33m\u001b[0m\u001b[1;33m\u001b[0m\u001b[0m\n\u001b[1;32m----> 4\u001b[1;33m \u001b[0mnp\u001b[0m\u001b[1;33m.\u001b[0m\u001b[0madd\u001b[0m\u001b[1;33m.\u001b[0m\u001b[0mat\u001b[0m\u001b[1;33m(\u001b[0m\u001b[0ma\u001b[0m\u001b[1;33m,\u001b[0m\u001b[0mb\u001b[0m\u001b[1;33m,\u001b[0m\u001b[1;36m1\u001b[0m\u001b[1;33m)\u001b[0m\u001b[1;33m\u001b[0m\u001b[1;33m\u001b[0m\u001b[0m\n\u001b[0m\u001b[0;32m      5\u001b[0m \u001b[0mprint\u001b[0m\u001b[1;33m(\u001b[0m\u001b[0ma\u001b[0m\u001b[1;33m)\u001b[0m\u001b[1;33m\u001b[0m\u001b[1;33m\u001b[0m\u001b[0m\n",
      "\u001b[1;31mIndexError\u001b[0m: arrays used as indices must be of integer (or boolean) type"
     ]
    }
   ],
   "source": [
    "a=np.random.randint(0,20,10)\n",
    "b=np.ones(10)\n",
    "print(a)\n",
    "np.add.at(a,b,1)\n",
    "print(a)"
   ]
  },
  {
   "cell_type": "markdown",
   "id": "7348abd0",
   "metadata": {},
   "source": [
    "#### 65. How to accumulate elements of a vector (X) to an array (F) based on an index list (I)? (★★★)"
   ]
  },
  {
   "cell_type": "code",
   "execution_count": 125,
   "id": "b3e33a5a",
   "metadata": {},
   "outputs": [
    {
     "name": "stdout",
     "output_type": "stream",
     "text": [
      "[0. 7. 0. 6. 5. 0. 0. 0. 0. 3.]\n"
     ]
    }
   ],
   "source": [
    "X = [1,2,3,4,5,6]\n",
    "I = [1,3,9,3,4,1]\n",
    "F = np.bincount(I,X)\n",
    "print(F)"
   ]
  },
  {
   "cell_type": "markdown",
   "id": "538e651c",
   "metadata": {},
   "source": [
    "#### 66. Considering a (w,h,3) image of (dtype=ubyte), compute the number of unique colors (★★☆)"
   ]
  },
  {
   "cell_type": "code",
   "execution_count": 7,
   "id": "57f2f02f",
   "metadata": {},
   "outputs": [
    {
     "name": "stdout",
     "output_type": "stream",
     "text": [
      "64\n"
     ]
    }
   ],
   "source": [
    "w, h = 256, 256\n",
    "I = np.random.randint(0, 4, (h, w, 3)).astype(np.ubyte)\n",
    "colors = np.unique(I.reshape(-1, 3), axis=0)\n",
    "n = len(colors)\n",
    "print(n)"
   ]
  },
  {
   "cell_type": "markdown",
   "id": "33c986d9",
   "metadata": {},
   "source": [
    "#### 67. Considering a four dimensions array, how to get sum over the last two axis at once? (★★★)"
   ]
  },
  {
   "cell_type": "code",
   "execution_count": 145,
   "id": "a99a50e2",
   "metadata": {},
   "outputs": [
    {
     "name": "stdout",
     "output_type": "stream",
     "text": [
      "[[324 300 332]\n",
      " [298 279 290]\n",
      " [250 355 247]\n",
      " [233 238 239]]\n"
     ]
    }
   ],
   "source": [
    "a=np.random.randint(0,20,(4,3,5,6))\n",
    "print(a.sum(axis=(2,3)))"
   ]
  },
  {
   "cell_type": "markdown",
   "id": "00eb27c4",
   "metadata": {},
   "source": [
    "#### 68. Considering a one-dimensional vector D, how to compute means of subsets of D using a vector S of same size describing subset  indices? (★★★)"
   ]
  },
  {
   "cell_type": "code",
   "execution_count": 147,
   "id": "d48c5210",
   "metadata": {},
   "outputs": [
    {
     "name": "stdout",
     "output_type": "stream",
     "text": [
      "0    3.625000\n",
      "1    3.454545\n",
      "2    5.615385\n",
      "3    4.285714\n",
      "4    3.777778\n",
      "5    3.125000\n",
      "6    5.000000\n",
      "7    4.500000\n",
      "8    5.250000\n",
      "9    4.800000\n",
      "dtype: float64\n"
     ]
    }
   ],
   "source": [
    "D=np.random.randint(0,10,100)\n",
    "S=np.random.randint(0,10,100)\n",
    "import pandas as pd\n",
    "print(pd.Series(D).groupby(S).mean())"
   ]
  },
  {
   "cell_type": "markdown",
   "id": "928a1a15",
   "metadata": {},
   "source": [
    "#### 69. How to get the diagonal of a dot product? (★★★)"
   ]
  },
  {
   "cell_type": "code",
   "execution_count": 152,
   "id": "ef2c9ddd",
   "metadata": {},
   "outputs": [
    {
     "name": "stdout",
     "output_type": "stream",
     "text": [
      "[0.99708919 2.13446336 0.32656309]\n"
     ]
    }
   ],
   "source": [
    "a=np.random.rand(3,3)\n",
    "b=np.random.rand(3,3)\n",
    "print(np.diag(np.dot(a,b)))"
   ]
  },
  {
   "cell_type": "markdown",
   "id": "5143f7f3",
   "metadata": {},
   "source": [
    "#### 70. Consider the vector [1, 2, 3, 4, 5], how to build a new vector with 3 consecutive zeros interleaved between each value? (★★★)"
   ]
  },
  {
   "cell_type": "code",
   "execution_count": 161,
   "id": "1d99a1c1",
   "metadata": {},
   "outputs": [
    {
     "name": "stdout",
     "output_type": "stream",
     "text": [
      "[1 2 3 4 5] [1. 0. 0. 0. 2. 0. 0. 0. 3. 0. 0. 0. 4. 0. 0. 0. 5.]\n"
     ]
    }
   ],
   "source": [
    "z=np.array([1, 2, 3, 4, 5])\n",
    "x=np.zeros(3*(len(z)-1)+len(z))\n",
    "x[::4]=z\n",
    "print(z,x)"
   ]
  },
  {
   "cell_type": "markdown",
   "id": "f62551d8",
   "metadata": {},
   "source": [
    "#### 71. Consider an array of dimension (5,5,3), how to mulitply it by an array with dimensions (5,5)? (★★★)"
   ]
  },
  {
   "cell_type": "code",
   "execution_count": 168,
   "id": "9ab241b7",
   "metadata": {},
   "outputs": [
    {
     "name": "stdout",
     "output_type": "stream",
     "text": [
      "[[[  68  408  289]\n",
      "  [1386  726  462]\n",
      "  [ 437  304  684]\n",
      "  [ 900 1410  540]\n",
      "  [ 812  588  252]]\n",
      "\n",
      " [[1472  608  704]\n",
      "  [ 999  185  370]\n",
      "  [ 700    0  640]\n",
      "  [  70  175  220]\n",
      "  [  84   24  102]]\n",
      "\n",
      " [[ 481  247  520]\n",
      "  [ 510   75  555]\n",
      "  [ 578  357  136]\n",
      "  [1131 1872  819]\n",
      "  [ 425  200  850]]\n",
      "\n",
      " [[1568 2009 1519]\n",
      "  [ 560  532  560]\n",
      "  [ 760  342  646]\n",
      "  [ 400    0  800]\n",
      "  [ 390  330  780]]\n",
      "\n",
      " [[ 312  585  559]\n",
      "  [ 864  816  144]\n",
      "  [ 119  561   68]\n",
      "  [1260  405  810]\n",
      "  [  81  132  111]]]\n"
     ]
    }
   ],
   "source": [
    "a=np.random.randint(0,50,(5,5,3))\n",
    "b=np.random.randint(0,50,(5,5))\n",
    "print(a*b[:,:,None])"
   ]
  },
  {
   "cell_type": "markdown",
   "id": "6896e326",
   "metadata": {},
   "source": [
    "#### 72. How to swap two rows of an array? (★★★)"
   ]
  },
  {
   "cell_type": "code",
   "execution_count": 171,
   "id": "9e8fcba9",
   "metadata": {},
   "outputs": [
    {
     "name": "stdout",
     "output_type": "stream",
     "text": [
      "[[44 41 36 42  8]\n",
      " [28 42 12 13 24]\n",
      " [18 46 32 19 13]\n",
      " [17 15 25  6 34]\n",
      " [ 0 20  9 41 26]]\n",
      "[[18 46 32 19 13]\n",
      " [28 42 12 13 24]\n",
      " [44 41 36 42  8]\n",
      " [17 15 25  6 34]\n",
      " [ 0 20  9 41 26]]\n"
     ]
    }
   ],
   "source": [
    "b=np.random.randint(0,50,(5,5))\n",
    "print(b)\n",
    "b[[0,2]]=b[[2,0]]\n",
    "print(b)"
   ]
  },
  {
   "cell_type": "markdown",
   "id": "aeaf4a7b",
   "metadata": {},
   "source": [
    "#### 73. Consider a set of 10 triplets describing 10 triangles (with shared vertices), find the set of unique line segments composing all the  triangles (★★★)"
   ]
  },
  {
   "cell_type": "code",
   "execution_count": 181,
   "id": "39ef4234",
   "metadata": {},
   "outputs": [
    {
     "name": "stdout",
     "output_type": "stream",
     "text": [
      "[[16 30 77]\n",
      " [20 62 37]\n",
      " [ 5 25 86]\n",
      " [65 92 53]\n",
      " [ 8 58 14]\n",
      " [44 17 99]\n",
      " [55 17 23]\n",
      " [88 19 45]\n",
      " [84  7 83]\n",
      " [ 9 62 20]]\n",
      "[( 5, 25) ( 5, 86) ( 7, 83) ( 7, 84) ( 8, 14) ( 8, 58) ( 9, 20) ( 9, 62)\n",
      " (14, 58) (16, 30) (16, 77) (17, 23) (17, 44) (17, 55) (17, 99) (19, 45)\n",
      " (19, 88) (20, 37) (20, 62) (23, 55) (25, 86) (30, 77) (37, 62) (44, 99)\n",
      " (45, 88) (53, 65) (53, 92) (65, 92) (83, 84)]\n"
     ]
    }
   ],
   "source": [
    "v=np.random.randint(0,100,(10,3))\n",
    "print(v)\n",
    "w=np.roll(v.repeat(2,axis=1),-1,axis=1)\n",
    "w=w.reshape(len(w)*3,2)\n",
    "w=np.sort(w,axis=1)\n",
    "x=w.view(dtype=[('p0',w.dtype),('p1',w.dtype)])\n",
    "print(np.unique(x))"
   ]
  },
  {
   "cell_type": "markdown",
   "id": "3d11451b",
   "metadata": {},
   "source": [
    "#### 74. Given a sorted array C that corresponds to a bincount, how to produce an array A such that np.bincount(A) == C? (★★★)"
   ]
  },
  {
   "cell_type": "code",
   "execution_count": 186,
   "id": "a5563362",
   "metadata": {},
   "outputs": [
    {
     "name": "stdout",
     "output_type": "stream",
     "text": [
      "[ 2 12 13 14 15 24 25 27 30]\n",
      "[ 2 12 13 14 15 24 25 27 30]\n"
     ]
    }
   ],
   "source": [
    "B=np.sort(np.random.randint(1,31,9))\n",
    "print(B)\n",
    "C=np.bincount(B)\n",
    "A=np.repeat(np.arange(len(C)), C)\n",
    "print(A)"
   ]
  },
  {
   "cell_type": "markdown",
   "id": "a0a45995",
   "metadata": {},
   "source": [
    "#### 75. How to compute averages using a sliding window over an array? (★★★)"
   ]
  },
  {
   "cell_type": "code",
   "execution_count": 198,
   "id": "116243d5",
   "metadata": {},
   "outputs": [
    {
     "name": "stdout",
     "output_type": "stream",
     "text": [
      "[ 7.  12.5 13.5 14.5 19.5 24.5 26.  28.5]\n"
     ]
    }
   ],
   "source": [
    "def avg(a,n):\n",
    "    r=np.cumsum(a,dtype=float)\n",
    "    r[n:]=r[n:]-r[:-n]\n",
    "    return r[n-1:]/n\n",
    "print(avg(A,2))"
   ]
  },
  {
   "cell_type": "markdown",
   "id": "7808578f",
   "metadata": {},
   "source": [
    "#### 76. Consider a one-dimensional array Z, build a two-dimensional array whose first row is (Z[0],Z[1],Z[2]) and each subsequent row is  shifted by 1 (last row should be (Z[-3],Z[-2],Z[-1]) (★★★)"
   ]
  },
  {
   "cell_type": "code",
   "execution_count": 217,
   "id": "6b23ba6e",
   "metadata": {},
   "outputs": [
    {
     "name": "stdout",
     "output_type": "stream",
     "text": [
      "[[11 18 13]\n",
      " [18 13  0]\n",
      " [13  0 27]\n",
      " [ 0 27 21]\n",
      " [27 21 21]\n",
      " [21 21  7]\n",
      " [21  7 14]\n",
      " [ 7 14 18]]\n"
     ]
    }
   ],
   "source": [
    "from numpy.lib import stride_tricks\n",
    "def rolling(a, window):\n",
    "    shape = (a.size - window + 1, window)\n",
    "    strides = (a.strides[0], a.strides[0])\n",
    "    return stride_tricks.as_strided(a, shape=shape, strides=strides)\n",
    "z=rolling(np.random.randint(0,30,10),3)\n",
    "print(z)"
   ]
  },
  {
   "cell_type": "markdown",
   "id": "8e83df46",
   "metadata": {},
   "source": [
    "#### 77. How to negate a boolean, or to change the sign of a float inplace? (★★★)"
   ]
  },
  {
   "cell_type": "code",
   "execution_count": 204,
   "id": "f73127b7",
   "metadata": {},
   "outputs": [
    {
     "data": {
      "text/plain": [
       "array([-0.20423216,  0.52633314,  0.08605598,  0.46134612,  0.40484358,\n",
       "        0.27742029,  0.76259347,  0.65166174, -0.25944307, -0.36937838,\n",
       "        0.28089457,  0.91399759,  0.09456421, -0.33644578,  0.12142616,\n",
       "        0.82814436, -0.59341995, -0.59002871, -0.29019914,  0.46096403,\n",
       "       -0.00695128, -0.52516409, -0.63513303,  0.42790581, -0.58762427,\n",
       "       -0.69917818, -0.35474239,  0.86578773,  0.01440149,  0.84408663,\n",
       "       -0.7228319 , -0.99635761, -0.41682851,  0.62049158,  0.82684684,\n",
       "        0.86904427, -0.36015004,  0.75989286,  0.26338511,  0.08263444,\n",
       "        0.71103997,  0.20954939, -0.12679547, -0.99659093, -0.94341854,\n",
       "        0.06240563, -0.98944446, -0.86126574,  0.1163284 ,  0.69995194,\n",
       "        0.08137675, -0.90587587, -0.66415943,  0.54900558, -0.71509479,\n",
       "        0.83126014,  0.84044812, -0.83166179,  0.39090784, -0.08748685,\n",
       "        0.15726242,  0.23577713, -0.42529297, -0.64291922, -0.09897394,\n",
       "       -0.13900875, -0.2472633 , -0.44073213, -0.99359455,  0.88623052,\n",
       "       -0.43530991,  0.93995218,  0.43971472,  0.71500232,  0.24921747,\n",
       "       -0.29476559, -0.36996079, -0.46117029, -0.68043941, -0.93832047,\n",
       "        0.70987605,  0.62752446,  0.16211463, -0.49433794, -0.62483319,\n",
       "        0.78125128, -0.06334253,  0.98335144, -0.91428903, -0.1178938 ,\n",
       "       -0.81230434,  0.77249641, -0.29987116, -0.95232136, -0.36046324,\n",
       "        0.32188274,  0.23938482,  0.63781587,  0.35985393, -0.08849921])"
      ]
     },
     "execution_count": 204,
     "metadata": {},
     "output_type": "execute_result"
    }
   ],
   "source": [
    "c=np.random.randint(0,2,100)\n",
    "np.logical_not(c,out=c)\n",
    "Z=np.random.uniform(-1.0,1.0,100)\n",
    "np.negative(Z,out=Z)"
   ]
  },
  {
   "cell_type": "markdown",
   "id": "e67ff31c",
   "metadata": {},
   "source": [
    "#### 78. Consider 2 sets of points P0,P1 describing lines (2d) and a point p, how to compute distance from p to each line i (P0[i],P1[i])? (★★★)"
   ]
  },
  {
   "cell_type": "code",
   "execution_count": 210,
   "id": "89d75b76",
   "metadata": {},
   "outputs": [
    {
     "name": "stdout",
     "output_type": "stream",
     "text": [
      "[ 1.40329283  4.35722405  1.13344497  1.38675049  1.40329283  9.89949494\n",
      " 10.1597004   2.44587426  2.60472943  4.0309682 ]\n"
     ]
    }
   ],
   "source": [
    "def dis(p0,p1,p):\n",
    "    t=p1-p0\n",
    "    l=(t**2).sum(axis=1)\n",
    "    u=-((p0[:,0]-p[...,0])*t[:,0] + (p0[:,1]-p[...,1])*t[:,1]) / l\n",
    "    u=u.reshape(len(u),1)\n",
    "    d=p0+u*t - p\n",
    "    return np.sqrt((d**2).sum(axis=1))\n",
    "p0=np.random.randint(-10,10,(10,2))\n",
    "p1=np.random.randint(-10,10,(10,2))\n",
    "p=np.random.randint(-10,10,( 1,2))\n",
    "print(dis(p0,p1,p))"
   ]
  },
  {
   "cell_type": "markdown",
   "id": "ad8821b1",
   "metadata": {},
   "source": [
    "#### 79. Consider 2 sets of points P0,P1 describing lines (2d) and a set of points P, how to compute distance from each point j (P[j]) to each line i (P0[i],P1[i])? (★★★)"
   ]
  },
  {
   "cell_type": "code",
   "execution_count": 214,
   "id": "775feca0",
   "metadata": {},
   "outputs": [
    {
     "name": "stdout",
     "output_type": "stream",
     "text": [
      "[[ 2.16930458  8.94427191  7.14274933  7.36728736  9.296815    9.89949494\n",
      "   4.          9.89949494  9.19238816  3.53553391]\n",
      " [ 4.98940053  5.36656315  7.14274933  7.89352217  6.31481774  5.65685425\n",
      "   8.          8.48528137  6.36396103 12.02081528]\n",
      " [ 5.31479622 11.18033989  7.00538876  9.1214034  10.34928463 11.3137085\n",
      "   3.          7.07106781 10.60660172  4.94974747]\n",
      " [ 7.48410079  8.94427191  9.8899606  11.48946005  9.73534401  9.19238816\n",
      "  10.          9.19238816  9.89949494 15.55634919]\n",
      " [ 6.83330942  4.47213595  3.57137466  6.22711194  3.77134948  3.53553391\n",
      "   4.         12.02081528  4.24264069  9.89949494]\n",
      " [ 4.77247007  3.57770876  4.39553805  0.          0.1754116   1.41421356\n",
      "   8.          1.41421356  0.70710678  4.94974747]\n",
      " [ 6.83330942  2.23606798  8.92843666  2.28035085  3.50823208  1.41421356\n",
      "  13.          2.82842712  2.12132034  7.77817459]\n",
      " [10.30419675  3.13049517  2.60985072  3.50823208  0.52623481  0.\n",
      "   3.         18.38477631  0.70710678  6.36396103]\n",
      " [ 5.53172667  1.34164079  0.13736056  2.80658566  0.1754116   0.\n",
      "   1.         12.72792206  0.70710678  6.36396103]\n",
      " [ 3.57935255  0.4472136   0.41208169  1.22788123  1.05246962  1.41421356\n",
      "   1.         11.3137085   0.70710678  4.94974747]]\n"
     ]
    }
   ],
   "source": [
    "p0=np.random.randint(-10,10,(10,2))\n",
    "p1=np.random.randint(-10,10,(10,2))\n",
    "p=np.random.randint(-10,10,( 10,2))\n",
    "print(np.array([dis(p0,p1,p_i)for p_i in p]))"
   ]
  },
  {
   "cell_type": "markdown",
   "id": "a0c8cbf5",
   "metadata": {},
   "source": [
    "#### 80. Consider an arbitrary array, write a function that extract a subpart with a fixed shape and centered on a given element (pad with a `fill` value when necessary) (★★★)"
   ]
  },
  {
   "cell_type": "code",
   "execution_count": null,
   "id": "381fd926",
   "metadata": {},
   "outputs": [],
   "source": []
  },
  {
   "cell_type": "markdown",
   "id": "781fa236",
   "metadata": {},
   "source": [
    "#### 81. Consider an array Z = [1,2,3,4,5,6,7,8,9,10,11,12,13,14], how to generate an array R = [[1,2,3,4], [2,3,4,5], [3,4,5,6], ..., [11,12,13,14]]? (★★★)"
   ]
  },
  {
   "cell_type": "code",
   "execution_count": 218,
   "id": "8e84d3c2",
   "metadata": {},
   "outputs": [
    {
     "name": "stdout",
     "output_type": "stream",
     "text": [
      "[[ 1  2  3  4]\n",
      " [ 2  3  4  5]\n",
      " [ 3  4  5  6]\n",
      " [ 4  5  6  7]\n",
      " [ 5  6  7  8]\n",
      " [ 6  7  8  9]\n",
      " [ 7  8  9 10]\n",
      " [ 8  9 10 11]\n",
      " [ 9 10 11 12]\n",
      " [10 11 12 13]\n",
      " [11 12 13 14]]\n"
     ]
    }
   ],
   "source": [
    "z=np.arange(1,15,dtype=np.uint32)\n",
    "r=stride_tricks.as_strided(z,(11,4),(4,4))\n",
    "print(r)"
   ]
  },
  {
   "cell_type": "markdown",
   "id": "9c9bb0f3",
   "metadata": {},
   "source": [
    "#### 82. Compute a matrix rank (★★★)"
   ]
  },
  {
   "cell_type": "code",
   "execution_count": 223,
   "id": "b75ef318",
   "metadata": {},
   "outputs": [
    {
     "name": "stdout",
     "output_type": "stream",
     "text": [
      "[[ -1  -3  -9]\n",
      " [  5   7  -4]\n",
      " [  6 -10   2]]\n",
      "3\n"
     ]
    }
   ],
   "source": [
    "m=np.random.randint(-10,10,(3,3))\n",
    "print(m)\n",
    "u,s,v= np.linalg.svd(m) \n",
    "rank = np.sum(s>=0)\n",
    "print(rank)"
   ]
  },
  {
   "cell_type": "markdown",
   "id": "7d8dc135",
   "metadata": {},
   "source": [
    "#### 83. How to find the most frequent value in an array?"
   ]
  },
  {
   "cell_type": "code",
   "execution_count": 226,
   "id": "3978a7a2",
   "metadata": {},
   "outputs": [
    {
     "name": "stdout",
     "output_type": "stream",
     "text": [
      "[6 6 6 2 9 1 3 0 5 7] 6\n"
     ]
    }
   ],
   "source": [
    "w=np.random.randint(0,10,10)\n",
    "print(w,np.bincount(w).argmax())"
   ]
  },
  {
   "cell_type": "markdown",
   "id": "aa340126",
   "metadata": {},
   "source": [
    "#### 84. Extract all the contiguous 3x3 blocks from a random 10x10 matrix (★★★)"
   ]
  },
  {
   "cell_type": "code",
   "execution_count": 227,
   "id": "bf138783",
   "metadata": {},
   "outputs": [
    {
     "name": "stdout",
     "output_type": "stream",
     "text": [
      "[[[[57  1 88]\n",
      "   [94 22 46]\n",
      "   [16 43 51]]\n",
      "\n",
      "  [[ 1 88 79]\n",
      "   [22 46 66]\n",
      "   [43 51 67]]\n",
      "\n",
      "  [[88 79  8]\n",
      "   [46 66 14]\n",
      "   [51 67 17]]\n",
      "\n",
      "  [[79  8 89]\n",
      "   [66 14 43]\n",
      "   [67 17 68]]\n",
      "\n",
      "  [[ 8 89 84]\n",
      "   [14 43 77]\n",
      "   [17 68 48]]\n",
      "\n",
      "  [[89 84  7]\n",
      "   [43 77 54]\n",
      "   [68 48 66]]\n",
      "\n",
      "  [[84  7  7]\n",
      "   [77 54 81]\n",
      "   [48 66  7]]\n",
      "\n",
      "  [[ 7  7 61]\n",
      "   [54 81 81]\n",
      "   [66  7 11]]]\n",
      "\n",
      "\n",
      " [[[94 22 46]\n",
      "   [16 43 51]\n",
      "   [85 23 63]]\n",
      "\n",
      "  [[22 46 66]\n",
      "   [43 51 67]\n",
      "   [23 63  8]]\n",
      "\n",
      "  [[46 66 14]\n",
      "   [51 67 17]\n",
      "   [63  8 83]]\n",
      "\n",
      "  [[66 14 43]\n",
      "   [67 17 68]\n",
      "   [ 8 83 89]]\n",
      "\n",
      "  [[14 43 77]\n",
      "   [17 68 48]\n",
      "   [83 89 11]]\n",
      "\n",
      "  [[43 77 54]\n",
      "   [68 48 66]\n",
      "   [89 11 58]]\n",
      "\n",
      "  [[77 54 81]\n",
      "   [48 66  7]\n",
      "   [11 58 69]]\n",
      "\n",
      "  [[54 81 81]\n",
      "   [66  7 11]\n",
      "   [58 69 90]]]\n",
      "\n",
      "\n",
      " [[[16 43 51]\n",
      "   [85 23 63]\n",
      "   [28 70 92]]\n",
      "\n",
      "  [[43 51 67]\n",
      "   [23 63  8]\n",
      "   [70 92 54]]\n",
      "\n",
      "  [[51 67 17]\n",
      "   [63  8 83]\n",
      "   [92 54 43]]\n",
      "\n",
      "  [[67 17 68]\n",
      "   [ 8 83 89]\n",
      "   [54 43 15]]\n",
      "\n",
      "  [[17 68 48]\n",
      "   [83 89 11]\n",
      "   [43 15 49]]\n",
      "\n",
      "  [[68 48 66]\n",
      "   [89 11 58]\n",
      "   [15 49 76]]\n",
      "\n",
      "  [[48 66  7]\n",
      "   [11 58 69]\n",
      "   [49 76 36]]\n",
      "\n",
      "  [[66  7 11]\n",
      "   [58 69 90]\n",
      "   [76 36 22]]]\n",
      "\n",
      "\n",
      " [[[85 23 63]\n",
      "   [28 70 92]\n",
      "   [74 75 65]]\n",
      "\n",
      "  [[23 63  8]\n",
      "   [70 92 54]\n",
      "   [75 65 74]]\n",
      "\n",
      "  [[63  8 83]\n",
      "   [92 54 43]\n",
      "   [65 74 95]]\n",
      "\n",
      "  [[ 8 83 89]\n",
      "   [54 43 15]\n",
      "   [74 95 95]]\n",
      "\n",
      "  [[83 89 11]\n",
      "   [43 15 49]\n",
      "   [95 95 11]]\n",
      "\n",
      "  [[89 11 58]\n",
      "   [15 49 76]\n",
      "   [95 11  7]]\n",
      "\n",
      "  [[11 58 69]\n",
      "   [49 76 36]\n",
      "   [11  7 84]]\n",
      "\n",
      "  [[58 69 90]\n",
      "   [76 36 22]\n",
      "   [ 7 84  4]]]\n",
      "\n",
      "\n",
      " [[[28 70 92]\n",
      "   [74 75 65]\n",
      "   [33 41  3]]\n",
      "\n",
      "  [[70 92 54]\n",
      "   [75 65 74]\n",
      "   [41  3 16]]\n",
      "\n",
      "  [[92 54 43]\n",
      "   [65 74 95]\n",
      "   [ 3 16 39]]\n",
      "\n",
      "  [[54 43 15]\n",
      "   [74 95 95]\n",
      "   [16 39  2]]\n",
      "\n",
      "  [[43 15 49]\n",
      "   [95 95 11]\n",
      "   [39  2 94]]\n",
      "\n",
      "  [[15 49 76]\n",
      "   [95 11  7]\n",
      "   [ 2 94 16]]\n",
      "\n",
      "  [[49 76 36]\n",
      "   [11  7 84]\n",
      "   [94 16 74]]\n",
      "\n",
      "  [[76 36 22]\n",
      "   [ 7 84  4]\n",
      "   [16 74 56]]]\n",
      "\n",
      "\n",
      " [[[74 75 65]\n",
      "   [33 41  3]\n",
      "   [94 47 94]]\n",
      "\n",
      "  [[75 65 74]\n",
      "   [41  3 16]\n",
      "   [47 94 15]]\n",
      "\n",
      "  [[65 74 95]\n",
      "   [ 3 16 39]\n",
      "   [94 15 10]]\n",
      "\n",
      "  [[74 95 95]\n",
      "   [16 39  2]\n",
      "   [15 10 58]]\n",
      "\n",
      "  [[95 95 11]\n",
      "   [39  2 94]\n",
      "   [10 58 21]]\n",
      "\n",
      "  [[95 11  7]\n",
      "   [ 2 94 16]\n",
      "   [58 21 21]]\n",
      "\n",
      "  [[11  7 84]\n",
      "   [94 16 74]\n",
      "   [21 21 66]]\n",
      "\n",
      "  [[ 7 84  4]\n",
      "   [16 74 56]\n",
      "   [21 66 32]]]\n",
      "\n",
      "\n",
      " [[[33 41  3]\n",
      "   [94 47 94]\n",
      "   [84 51 69]]\n",
      "\n",
      "  [[41  3 16]\n",
      "   [47 94 15]\n",
      "   [51 69 58]]\n",
      "\n",
      "  [[ 3 16 39]\n",
      "   [94 15 10]\n",
      "   [69 58 22]]\n",
      "\n",
      "  [[16 39  2]\n",
      "   [15 10 58]\n",
      "   [58 22 49]]\n",
      "\n",
      "  [[39  2 94]\n",
      "   [10 58 21]\n",
      "   [22 49 68]]\n",
      "\n",
      "  [[ 2 94 16]\n",
      "   [58 21 21]\n",
      "   [49 68 59]]\n",
      "\n",
      "  [[94 16 74]\n",
      "   [21 21 66]\n",
      "   [68 59 22]]\n",
      "\n",
      "  [[16 74 56]\n",
      "   [21 66 32]\n",
      "   [59 22 92]]]\n",
      "\n",
      "\n",
      " [[[94 47 94]\n",
      "   [84 51 69]\n",
      "   [80 30 75]]\n",
      "\n",
      "  [[47 94 15]\n",
      "   [51 69 58]\n",
      "   [30 75 88]]\n",
      "\n",
      "  [[94 15 10]\n",
      "   [69 58 22]\n",
      "   [75 88 56]]\n",
      "\n",
      "  [[15 10 58]\n",
      "   [58 22 49]\n",
      "   [88 56 69]]\n",
      "\n",
      "  [[10 58 21]\n",
      "   [22 49 68]\n",
      "   [56 69 88]]\n",
      "\n",
      "  [[58 21 21]\n",
      "   [49 68 59]\n",
      "   [69 88 96]]\n",
      "\n",
      "  [[21 21 66]\n",
      "   [68 59 22]\n",
      "   [88 96 52]]\n",
      "\n",
      "  [[21 66 32]\n",
      "   [59 22 92]\n",
      "   [96 52 36]]]]\n"
     ]
    }
   ],
   "source": [
    "q=np.random.randint(0,100,(10,10))\n",
    "i = 1 + (q.shape[0]-3)\n",
    "j = 1 + (q.shape[1]-3)\n",
    "C = stride_tricks.as_strided(q,shape=(i, j,3,3), strides=q.strides + q.strides)\n",
    "print(C)"
   ]
  },
  {
   "cell_type": "markdown",
   "id": "6b6d2c84",
   "metadata": {},
   "source": [
    "#### 85. Create a 2D array subclass such that Z[i,j] == Z[j,i] (★★★)"
   ]
  },
  {
   "cell_type": "code",
   "execution_count": 45,
   "id": "155e16ce",
   "metadata": {},
   "outputs": [
    {
     "name": "stdout",
     "output_type": "stream",
     "text": [
      "[[ 8 11  8 12 10]\n",
      " [11  6  7  6  6]\n",
      " [ 8  7  7 42  9]\n",
      " [12  6 42  3  7]\n",
      " [10  6  9  7  5]]\n"
     ]
    }
   ],
   "source": [
    "class Symetric(np.ndarray):\n",
    "    def __setitem__(self, index, value):\n",
    "        i,j = index\n",
    "        super(Symetric, self).__setitem__((i,j), value)\n",
    "        super(Symetric, self).__setitem__((j,i), value)\n",
    "\n",
    "def symetric(Z):\n",
    "    return np.asarray(Z + Z.T - np.diag(Z.diagonal())).view(Symetric)\n",
    "\n",
    "S = symetric(np.random.randint(0,10,(5,5)))\n",
    "S[2,3] = 42\n",
    "print(S)"
   ]
  },
  {
   "cell_type": "markdown",
   "id": "7be0fe36",
   "metadata": {},
   "source": [
    "#### 86. Consider a set of p matrices wich shape (n,n) and a set of p vectors with shape (n,1). How to compute the sum of of the p matrix products at once? (result has shape (n,1)) (★★★)"
   ]
  },
  {
   "cell_type": "code",
   "execution_count": 44,
   "id": "ea732c23",
   "metadata": {},
   "outputs": [
    {
     "name": "stdout",
     "output_type": "stream",
     "text": [
      "[[80.]\n",
      " [80.]\n",
      " [80.]\n",
      " [80.]\n",
      " [80.]\n",
      " [80.]\n",
      " [80.]\n",
      " [80.]\n",
      " [80.]\n",
      " [80.]\n",
      " [80.]\n",
      " [80.]\n",
      " [80.]\n",
      " [80.]\n",
      " [80.]\n",
      " [80.]\n",
      " [80.]\n",
      " [80.]\n",
      " [80.]\n",
      " [80.]]\n"
     ]
    }
   ],
   "source": [
    "p, n =4, 20\n",
    "M = np.ones((p,n,n))\n",
    "V = np.ones((p,n,1))\n",
    "S = np.tensordot(M, V, axes=[[0, 2], [0, 1]])\n",
    "print(S)"
   ]
  },
  {
   "cell_type": "markdown",
   "id": "a840a88f",
   "metadata": {},
   "source": [
    "#### 87. Consider a 16x16 array, how to get the block-sum (block size is 4x4)? (★★★)"
   ]
  },
  {
   "cell_type": "code",
   "execution_count": 42,
   "id": "6e0c1cbe",
   "metadata": {},
   "outputs": [
    {
     "name": "stdout",
     "output_type": "stream",
     "text": [
      "[[ 408  472  536  600]\n",
      " [1432 1496 1560 1624]\n",
      " [2456 2520 2584 2648]\n",
      " [3480 3544 3608 3672]]\n"
     ]
    }
   ],
   "source": [
    "a=np.arange(16*16).reshape((16,16))\n",
    "k=np.add.reduceat(np.add.reduceat(a,np.arange(0,a.shape[0],4), axis=0),np.arange(0,a.shape[1],4), axis=1)\n",
    "print(k)"
   ]
  },
  {
   "cell_type": "markdown",
   "id": "c2bd7385",
   "metadata": {},
   "source": [
    "#### 88. How to implement the Game of Life using numpy arrays? (★★★)"
   ]
  },
  {
   "cell_type": "code",
   "execution_count": 40,
   "id": "aea7d805",
   "metadata": {},
   "outputs": [
    {
     "name": "stdout",
     "output_type": "stream",
     "text": [
      "[[0 0 0 ... 0 0 0]\n",
      " [0 0 0 ... 0 0 0]\n",
      " [0 0 0 ... 0 0 0]\n",
      " ...\n",
      " [0 0 0 ... 0 0 0]\n",
      " [0 0 0 ... 0 0 0]\n",
      " [0 0 0 ... 0 0 0]]\n"
     ]
    }
   ],
   "source": [
    "def iterate(Z):\n",
    "    N = (Z[0:-2,0:-2] + Z[0:-2,1:-1] + Z[0:-2,2:] +\n",
    "         Z[1:-1,0:-2]                + Z[1:-1,2:] +\n",
    "         Z[2:  ,0:-2] + Z[2:  ,1:-1] + Z[2:  ,2:])\n",
    "    birth = (N==3) & (Z[1:-1,1:-1]==0)\n",
    "    survive = ((N==2) | (N==3)) & (Z[1:-1,1:-1]==1)\n",
    "    Z[...] = 0\n",
    "    Z[1:-1,1:-1][birth | survive] = 1\n",
    "    return Z\n",
    "Z = np.random.randint(0,2,(50,50))\n",
    "for i in range(100): Z = iterate(Z)\n",
    "print(Z)"
   ]
  },
  {
   "cell_type": "markdown",
   "id": "4c70397b",
   "metadata": {},
   "source": [
    "#### 89. How to get the n largest values of an array (★★★)"
   ]
  },
  {
   "cell_type": "code",
   "execution_count": 3,
   "id": "16371718",
   "metadata": {},
   "outputs": [
    {
     "name": "stdout",
     "output_type": "stream",
     "text": [
      "[28 42 24 31 68 50 73 19 72 99] [73 99]\n"
     ]
    }
   ],
   "source": [
    "w=np.random.randint(0,100,10)\n",
    "n=np.random.randint(0,10)\n",
    "print(w,w[np.argsort(w)[n:]])"
   ]
  },
  {
   "cell_type": "markdown",
   "id": "15ba193c",
   "metadata": {},
   "source": [
    "#### 90. Given an arbitrary number of vectors, build the cartesian product (every combinations of every item) (★★★)"
   ]
  },
  {
   "cell_type": "code",
   "execution_count": 39,
   "id": "c9c468d4",
   "metadata": {},
   "outputs": [
    {
     "name": "stdout",
     "output_type": "stream",
     "text": [
      "[[1 4 6]\n",
      " [1 4 7]\n",
      " [1 5 6]\n",
      " [1 5 7]\n",
      " [2 4 6]\n",
      " [2 4 7]\n",
      " [2 5 6]\n",
      " [2 5 7]\n",
      " [3 4 6]\n",
      " [3 4 7]\n",
      " [3 5 6]\n",
      " [3 5 7]]\n"
     ]
    }
   ],
   "source": [
    "def cartesian(arrays):\n",
    "    arrays = [np.asarray(a) for a in arrays]\n",
    "    shape = (len(x) for x in arrays)\n",
    "    ix = np.indices(shape, dtype=int)\n",
    "    ix = ix.reshape(len(arrays), -1).T\n",
    "    for n, arr in enumerate(arrays):\n",
    "        ix[:, n] = arrays[n][ix[:, n]]\n",
    "    return ix\n",
    "print (cartesian(([1, 2, 3], [4, 5], [6, 7])))"
   ]
  },
  {
   "cell_type": "markdown",
   "id": "ec828405",
   "metadata": {},
   "source": [
    "#### 91. How to create a record array from a regular array? (★★★)"
   ]
  },
  {
   "cell_type": "code",
   "execution_count": 38,
   "id": "84eb5fba",
   "metadata": {},
   "outputs": [
    {
     "name": "stdout",
     "output_type": "stream",
     "text": [
      "[(b'ARMY', 2013., 7) (b'BTS',   13., 6)]\n"
     ]
    }
   ],
   "source": [
    "r=np.array([(\"ARMY\", 2013, 7),(\"BTS\", 13, 6)])\n",
    "R=np.core.records.fromarrays(r.T,names='col1, col2, col3',formats = 'S8, f8, i8')\n",
    "print(R)"
   ]
  },
  {
   "cell_type": "markdown",
   "id": "d94352b6",
   "metadata": {},
   "source": [
    "#### 92. Consider a large vector Z, compute Z to the power of 3 using 3 different methods (★★★)"
   ]
  },
  {
   "cell_type": "code",
   "execution_count": 30,
   "id": "301ba8a8",
   "metadata": {},
   "outputs": [
    {
     "name": "stdout",
     "output_type": "stream",
     "text": [
      "The slowest run took 6.87 times longer than the fastest. This could mean that an intermediate result is being cached.\n",
      "7.27 s ± 7.62 s per loop (mean ± std. dev. of 7 runs, 1 loop each)\n",
      "The slowest run took 8.48 times longer than the fastest. This could mean that an intermediate result is being cached.\n",
      "1.29 s ± 1.53 s per loop (mean ± std. dev. of 7 runs, 1 loop each)\n",
      "358 ms ± 39.3 ms per loop (mean ± std. dev. of 7 runs, 1 loop each)\n"
     ]
    }
   ],
   "source": [
    "Z=np.random.rand(int(5e7))\n",
    "%timeit np.power(Z,3)\n",
    "%timeit Z*Z*Z\n",
    "%timeit np.einsum('i,i,i->i',Z,Z,Z)"
   ]
  },
  {
   "cell_type": "markdown",
   "id": "7c3a9e32",
   "metadata": {},
   "source": [
    "#### 93. Consider two arrays A and B of shape (8,3) and (2,2). How to find rows of A that contain elements of each row of B regardless of the order of the elements in B? (★★★)"
   ]
  },
  {
   "cell_type": "code",
   "execution_count": 29,
   "id": "777376e3",
   "metadata": {},
   "outputs": [
    {
     "name": "stdout",
     "output_type": "stream",
     "text": [
      "[0 3 4 6]\n"
     ]
    }
   ],
   "source": [
    "A=np.random.randint(0,5,(8,3))\n",
    "B=np.random.randint(0,5,(2,2))\n",
    "C=(A[..., np.newaxis, np.newaxis]==B)\n",
    "rows=np.where(C.any((3,1)).all(1))[0]\n",
    "print(rows)"
   ]
  },
  {
   "cell_type": "markdown",
   "id": "da9d5eeb",
   "metadata": {},
   "source": [
    "#### 94. Considering a 10x3 matrix, extract rows with unequal values (e.g. [2,2,3]) (★★★)"
   ]
  },
  {
   "cell_type": "code",
   "execution_count": 28,
   "id": "67dbea5c",
   "metadata": {},
   "outputs": [
    {
     "name": "stdout",
     "output_type": "stream",
     "text": [
      "[[2 1 1]\n",
      " [1 2 2]\n",
      " [1 1 1]\n",
      " [1 2 2]\n",
      " [1 2 1]\n",
      " [2 2 1]\n",
      " [2 1 2]\n",
      " [2 1 2]\n",
      " [1 1 2]\n",
      " [1 2 2]]\n",
      "[[2 1 1]\n",
      " [1 2 2]\n",
      " [1 2 2]\n",
      " [1 2 1]\n",
      " [2 2 1]\n",
      " [2 1 2]\n",
      " [2 1 2]\n",
      " [1 1 2]\n",
      " [1 2 2]]\n"
     ]
    }
   ],
   "source": [
    "f=np.random.randint(1,3,(10,3))\n",
    "print(f)\n",
    "e=f[f.max(axis=1)!=f.min(axis=1),:]\n",
    "print(e)"
   ]
  },
  {
   "cell_type": "markdown",
   "id": "f7b65fd5",
   "metadata": {},
   "source": [
    "#### 95. Convert a vector of ints into a matrix binary representation (★★★)"
   ]
  },
  {
   "cell_type": "code",
   "execution_count": 24,
   "id": "127294ed",
   "metadata": {},
   "outputs": [
    {
     "name": "stdout",
     "output_type": "stream",
     "text": [
      "[ 6  2 16 22 17 23 15 12 17 19] [[0 0 0 0 0 1 1 0]\n",
      " [0 0 0 0 0 0 1 0]\n",
      " [0 0 0 1 0 0 0 0]\n",
      " [0 0 0 1 0 1 1 0]\n",
      " [0 0 0 1 0 0 0 1]\n",
      " [0 0 0 1 0 1 1 1]\n",
      " [0 0 0 0 1 1 1 1]\n",
      " [0 0 0 0 1 1 0 0]\n",
      " [0 0 0 1 0 0 0 1]\n",
      " [0 0 0 1 0 0 1 1]]\n"
     ]
    }
   ],
   "source": [
    "v=np.random.randint(1,30,10,dtype=np.uint8)\n",
    "print(v,np.unpackbits(v[:, np.newaxis], axis=1))"
   ]
  },
  {
   "cell_type": "markdown",
   "id": "2784c996",
   "metadata": {},
   "source": [
    "#### 96. Given a two dimensional array, how to extract unique rows? (★★★)"
   ]
  },
  {
   "cell_type": "code",
   "execution_count": 22,
   "id": "f030595f",
   "metadata": {},
   "outputs": [
    {
     "name": "stdout",
     "output_type": "stream",
     "text": [
      "[[1 1 1 1]\n",
      " [1 1 1 2]\n",
      " [1 1 2 1]\n",
      " [1 1 2 2]\n",
      " [1 2 1 2]\n",
      " [1 2 2 2]\n",
      " [2 1 1 1]\n",
      " [2 1 2 1]\n",
      " [2 1 2 2]\n",
      " [2 2 1 2]\n",
      " [2 2 2 1]\n",
      " [2 2 2 2]]\n"
     ]
    }
   ],
   "source": [
    "s=np.random.randint(1,3,(20,4))\n",
    "print(np.unique(s,axis=0))"
   ]
  },
  {
   "cell_type": "markdown",
   "id": "71a7574c",
   "metadata": {},
   "source": [
    "#### 97. Considering 2 vectors A & B, write the einsum equivalent of inner, outer, sum, and mul function (★★★)"
   ]
  },
  {
   "cell_type": "code",
   "execution_count": 15,
   "id": "721c4e1a",
   "metadata": {},
   "outputs": [
    {
     "data": {
      "text/plain": [
       "array([[132, 132,  36, 144, 156,  60,  84,  96,  60,  60],\n",
       "       [ 99,  99,  27, 108, 117,  45,  63,  72,  45,  45],\n",
       "       [143, 143,  39, 156, 169,  65,  91, 104,  65,  65],\n",
       "       [154, 154,  42, 168, 182,  70,  98, 112,  70,  70],\n",
       "       [ 88,  88,  24,  96, 104,  40,  56,  64,  40,  40],\n",
       "       [ 44,  44,  12,  48,  52,  20,  28,  32,  20,  20],\n",
       "       [ 99,  99,  27, 108, 117,  45,  63,  72,  45,  45],\n",
       "       [110, 110,  30, 120, 130,  50,  70,  80,  50,  50],\n",
       "       [ 44,  44,  12,  48,  52,  20,  28,  32,  20,  20],\n",
       "       [143, 143,  39, 156, 169,  65,  91, 104,  65,  65]])"
      ]
     },
     "execution_count": 15,
     "metadata": {},
     "output_type": "execute_result"
    }
   ],
   "source": [
    "A = np.random.randint(0,15,10)\n",
    "B = np.random.randint(0,15,10)\n",
    "np.einsum('i->', A)    \n",
    "np.einsum('i,i->i', A, B) \n",
    "np.einsum('i,i', A, B)    \n",
    "np.einsum('i,j->ij', A, B)   "
   ]
  },
  {
   "cell_type": "markdown",
   "id": "30f06441",
   "metadata": {},
   "source": [
    "#### 98. Considering a path described by two vectors (X,Y), how to sample it using equidistant samples (★★★)?"
   ]
  },
  {
   "cell_type": "code",
   "execution_count": 12,
   "id": "fb41c022",
   "metadata": {},
   "outputs": [],
   "source": [
    "phi = np.arange(0, 10*np.pi, 0.1)\n",
    "a = 1\n",
    "x = a*phi*np.cos(phi)\n",
    "y = a*phi*np.sin(phi)\n",
    "dr = (np.diff(x)**2 + np.diff(y)**2)**.5\n",
    "r = np.zeros_like(x)\n",
    "r[1:] = np.cumsum(dr)           \n",
    "r_int = np.linspace(0, r.max(), 200) \n",
    "x_int = np.interp(r_int, r, x)       \n",
    "y_int = np.interp(r_int, r, y)"
   ]
  },
  {
   "cell_type": "markdown",
   "id": "e5737276",
   "metadata": {},
   "source": [
    "#### 99. Given an integer n and a 2D array X, select from X the rows which can be interpreted as draws from a multinomial distribution with n degrees, i.e., the rows which only contain integers and which sum to n. (★★★)"
   ]
  },
  {
   "cell_type": "code",
   "execution_count": 10,
   "id": "68c333b0",
   "metadata": {},
   "outputs": [
    {
     "name": "stdout",
     "output_type": "stream",
     "text": [
      "[[2. 0. 1. 1.]]\n"
     ]
    }
   ],
   "source": [
    "X=np.asarray([[1.0, 0.0, 3.0, 8.0],\n",
    "                [2.0, 0.0, 1.0, 1.0],\n",
    "                [1.5, 2.5, 1.0, 0.0]])\n",
    "n=4\n",
    "M=np.logical_and.reduce(np.mod(X, 1) == 0, axis=-1)\n",
    "M&=(X.sum(axis=-1) == n)\n",
    "print(X[M])"
   ]
  },
  {
   "cell_type": "markdown",
   "id": "5882e36d",
   "metadata": {},
   "source": [
    "#### 100. Compute bootstrapped 95% confidence intervals for the mean of a 1D array X (i.e., resample the elements of an array with replacement N times, compute the mean of each sample, and then compute percentiles over the means). (★★★)"
   ]
  },
  {
   "cell_type": "code",
   "execution_count": 9,
   "id": "d1b566e5",
   "metadata": {},
   "outputs": [
    {
     "name": "stdout",
     "output_type": "stream",
     "text": [
      "[-0.31575403  0.08280195]\n"
     ]
    }
   ],
   "source": [
    "X=np.random.randn(100)\n",
    "N=1000\n",
    "idx=np.random.randint(0, X.size, (N, X.size))\n",
    "means=X[idx].mean(axis=1)\n",
    "ci=np.percentile(means, [2.5, 97.5])\n",
    "print(ci)"
   ]
  },
  {
   "cell_type": "code",
   "execution_count": null,
   "id": "076e88d6",
   "metadata": {},
   "outputs": [],
   "source": []
  }
 ],
 "metadata": {
  "kernelspec": {
   "display_name": "Python 3",
   "language": "python",
   "name": "python3"
  },
  "language_info": {
   "codemirror_mode": {
    "name": "ipython",
    "version": 3
   },
   "file_extension": ".py",
   "mimetype": "text/x-python",
   "name": "python",
   "nbconvert_exporter": "python",
   "pygments_lexer": "ipython3",
   "version": "3.8.8"
  }
 },
 "nbformat": 4,
 "nbformat_minor": 5
}
