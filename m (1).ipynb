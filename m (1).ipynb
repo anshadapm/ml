{
 "cells": [
  {
   "cell_type": "code",
   "execution_count": 35,
   "id": "8909570a",
   "metadata": {},
   "outputs": [
    {
     "name": "stdout",
     "output_type": "stream",
     "text": [
      "intercept 9.804904039224809\n",
      "slope [3.00112538]\n"
     ]
    },
    {
     "data": {
      "text/plain": [
       "[<matplotlib.lines.Line2D at 0x2102e2ae190>]"
      ]
     },
     "execution_count": 35,
     "metadata": {},
     "output_type": "execute_result"
    },
    {
     "data": {
      "image/png": "[encoded data removed]",
      "text/plain": [
       "<Figure size 432x288 with 1 Axes>"
      ]
     },
     "metadata": {
      "needs_background": "light"
     },
     "output_type": "display_data"
    }
   ],
   "source": [
    "import numpy as np\n",
    "import random\n",
    "import matplotlib.pyplot as plt\n",
    "from sklearn.linear_model import LinearRegression\n",
    "\n",
    "x= np.random.randint(0,50,(100))\n",
    "c= np.random.randint(0,20,(100))\n",
    "y= []\n",
    "for i in range(100):\n",
    "    k= 3*x[i] + c[i] \n",
    "    y.append(k)\n",
    "\n",
    "plt.scatter(x,y) \n",
    "x=np.array(x).reshape((-1,1))\n",
    "regr = LinearRegression().fit(x,y)\n",
    "print('intercept',regr.intercept_)\n",
    "print('slope',regr.coef_)\n",
    "plt.plot\n",
    "plt.plot(x,regr.predict(x),color='b')"
   ]
  },
  {
   "cell_type": "code",
   "execution_count": null,
   "id": "0c661bbd",
   "metadata": {},
   "outputs": [],
   "source": []
  },
  {
   "cell_type": "code",
   "execution_count": null,
   "id": "58a8fe40",
   "metadata": {},
   "outputs": [],
   "source": []
  },
  {
   "cell_type": "code",
   "execution_count": null,
   "id": "3a804f00",
   "metadata": {},
   "outputs": [],
   "source": []
  },
  {
   "cell_type": "code",
   "execution_count": null,
   "id": "3907aac8",
   "metadata": {},
   "outputs": [],
   "source": []
  }
 ],
 "metadata": {
  "kernelspec": {
   "display_name": "Python 3",
   "language": "python",
   "name": "python3"
  },
  "language_info": {
   "codemirror_mode": {
    "name": "ipython",
    "version": 3
   },
   "file_extension": ".py",
   "mimetype": "text/x-python",
   "name": "python",
   "nbconvert_exporter": "python",
   "pygments_lexer": "ipython3",
   "version": "3.8.8"
  }
 },
 "nbformat": 4,
 "nbformat_minor": 5
}
